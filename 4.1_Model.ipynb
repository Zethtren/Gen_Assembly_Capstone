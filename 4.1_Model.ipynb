{
 "cells": [
  {
   "cell_type": "markdown",
   "metadata": {},
   "source": [
    "### Preliminary model:\n",
    "\n",
    "Using the functions from the custom module modeling_functions.py and training by saving and loading states from h5 and yaml files. I was finally able to build a model that was trainable. \n",
    "\n",
    "This model still needs some work and these files likely need a lot of cleaning. \n",
    "\n",
    "But I will organize and structure a solid walk-through of this work flow (Condensed into organized imports and a visualized notebook) as soon as possible."
   ]
  },
  {
   "cell_type": "code",
   "execution_count": 9,
   "metadata": {},
   "outputs": [
    {
     "name": "stdout",
     "output_type": "stream",
     "text": [
      "Train on 154 samples\n",
      "154/154 [==============================] - 3s 21ms/sample - loss: 3.2201 - accuracy: 0.1883\n"
     ]
    }
   ],
   "source": [
    "from modeling_functions import generator, build_model, model_train_one_it\n",
    "from tensorflow.keras.models import Model, load_model, save_model\n",
    "\n",
    "import tensorflow.keras as keras\n",
    "import tensorflow as tf\n",
    "\n",
    "\n",
    "import os\n",
    "import yaml\n",
    "\n",
    "config = tf.compat.v1.ConfigProto()\n",
    "config.gpu_options.allow_growth = True\n",
    "sess = tf.compat.v1.Session(config=config)\n",
    "\n",
    "\n",
    "\n",
    "gen_path ='/home/houston/Desktop/General_Assembly/CapStone/Phase 2/Directories/Train/Train0_pre.csv'\n",
    "\n",
    "model_path = './workingmodel'\n",
    "\n",
    "\n",
    "model = build_model((df['X'][0].shape))\n",
    "save_model(model, model_path, save_format='h5')\n",
    "\n",
    "\n",
    "lists = os.listdir('/home/houston/Desktop/General_Assembly/CapStone/Phase 2/Directories/Train/')\n",
    "for j in lists:\n",
    "    dic = {}\n",
    "    dic['i'] = 0\n",
    "    dic['gen_path'] = '/home/houston/Desktop/General_Assembly/CapStone/Phase 2/Directories/Train/' + j\n",
    "    with open('/home/houston/Desktop/General_Assembly/CapStone/Phase 2/looper.yaml', 'w') as inner:\n",
    "        yaml.dump(dic, inner)\n",
    "    \n",
    "    for i in range(256):\n",
    "        os.system('python3 /home/houston/Desktop/General_Assembly/CapStone/Phase\\ 2/one_it.py')"
   ]
  },
  {
   "cell_type": "code",
   "execution_count": 32,
   "metadata": {},
   "outputs": [
    {
     "name": "stdout",
     "output_type": "stream",
     "text": [
      "Model: \"model_1\"\n",
      "__________________________________________________________________________________________________\n",
      "Layer (type)                    Output Shape         Param #     Connected to                     \n",
      "==================================================================================================\n",
      "input_4 (InputLayer)            [(None, 800, 1025)]  0                                            \n",
      "__________________________________________________________________________________________________\n",
      "input_5 (InputLayer)            [(None, None, 30)]   0                                            \n",
      "__________________________________________________________________________________________________\n",
      "lstm_3 (LSTM)                   [(None, 512), (None, 3149824     input_4[0][0]                    \n",
      "__________________________________________________________________________________________________\n",
      "lstm_4 (LSTM)                   [(None, None, 512),  1112064     input_5[0][0]                    \n",
      "                                                                 lstm_3[0][1]                     \n",
      "                                                                 lstm_3[0][2]                     \n",
      "__________________________________________________________________________________________________\n",
      "dense_1 (Dense)                 (None, None, 30)     15390       lstm_4[0][0]                     \n",
      "==================================================================================================\n",
      "Total params: 4,277,278\n",
      "Trainable params: 4,277,278\n",
      "Non-trainable params: 0\n",
      "__________________________________________________________________________________________________\n"
     ]
    }
   ],
   "source": [
    "model.summary()"
   ]
  }
 ],
 "metadata": {
  "kernelspec": {
   "display_name": "Python 3",
   "language": "python",
   "name": "python3"
  },
  "language_info": {
   "codemirror_mode": {
    "name": "ipython",
    "version": 3
   },
   "file_extension": ".py",
   "mimetype": "text/x-python",
   "name": "python",
   "nbconvert_exporter": "python",
   "pygments_lexer": "ipython3",
   "version": "3.7.6"
  }
 },
 "nbformat": 4,
 "nbformat_minor": 4
}
