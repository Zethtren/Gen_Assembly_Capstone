{
 "cells": [
  {
   "cell_type": "markdown",
   "metadata": {},
   "source": [
    "### Creating DataFrames:\n",
    "\n",
    "The purpose of this notebook is generate a Train Test and Validation DataFrame containing the file paths for the corresponding datafiles and The sentecnes from the text files that match them."
   ]
  },
  {
   "cell_type": "code",
   "execution_count": 1,
   "metadata": {},
   "outputs": [],
   "source": [
    "import pandas as pd\n",
    "import numpy as np\n",
    "import matplotlib.pyplot as plt\n",
    "import librosa\n",
    "import soundfile as sf\n",
    "import os"
   ]
  },
  {
   "cell_type": "code",
   "execution_count": 2,
   "metadata": {},
   "outputs": [],
   "source": [
    "y, sr = librosa.load('/home/houston/Desktop/General_Assembly/CapStone/Phase 2/Train/train-clean-100/1624/168623/1624-168623-0003.flac')"
   ]
  },
  {
   "cell_type": "code",
   "execution_count": 3,
   "metadata": {},
   "outputs": [
    {
     "data": {
      "text/plain": [
       "array([ 1.0459040e-03,  1.1131088e-03,  8.6204050e-04, ...,\n",
       "       -4.3476470e-05, -4.1983909e-05, -5.4221950e-05], dtype=float32)"
      ]
     },
     "execution_count": 3,
     "metadata": {},
     "output_type": "execute_result"
    }
   ],
   "source": [
    "y"
   ]
  },
  {
   "cell_type": "code",
   "execution_count": 4,
   "metadata": {},
   "outputs": [
    {
     "data": {
      "text/plain": [
       "338247"
      ]
     },
     "execution_count": 4,
     "metadata": {},
     "output_type": "execute_result"
    }
   ],
   "source": [
    "len(y)"
   ]
  },
  {
   "cell_type": "code",
   "execution_count": 5,
   "metadata": {},
   "outputs": [
    {
     "data": {
      "text/plain": [
       "22050"
      ]
     },
     "execution_count": 5,
     "metadata": {},
     "output_type": "execute_result"
    }
   ],
   "source": [
    "sr"
   ]
  },
  {
   "cell_type": "code",
   "execution_count": 6,
   "metadata": {},
   "outputs": [
    {
     "data": {
      "text/plain": [
       "[<matplotlib.lines.Line2D at 0x7f69f4c414d0>]"
      ]
     },
     "execution_count": 6,
     "metadata": {},
     "output_type": "execute_result"
    },
    {
     "data": {
      "image/png": "[encoded data removed]",
      "text/plain": [
       "<Figure size 432x288 with 1 Axes>"
      ]
     },
     "metadata": {
      "needs_background": "light"
     },
     "output_type": "display_data"
    }
   ],
   "source": [
    "plt.plot(y)"
   ]
  },
  {
   "cell_type": "code",
   "execution_count": 7,
   "metadata": {},
   "outputs": [],
   "source": [
    "path = '/home/houston/Desktop/General_Assembly/CapStone/Phase 2'\n",
    "tdt = '/Train'\n",
    "folder = '/train-clean-100'\n",
    "p1 = '/1624'\n",
    "p2 = '/168623'\n",
    "\n",
    "fullpath = path + tdt + folder + p1 + p2"
   ]
  },
  {
   "cell_type": "code",
   "execution_count": 10,
   "metadata": {},
   "outputs": [],
   "source": [
    "names_list = []\n",
    "\n",
    "sentences = []\n",
    "\n",
    "\n",
    "path = '/home/houston/Desktop/General_Assembly/CapStone/Phase 2'\n",
    "tdt = '/Train'\n",
    "\n",
    "for folder in os.listdir(path + tdt):\n",
    "    \n",
    "    for p1 in os.listdir(path + tdt + '/' + folder):\n",
    "        \n",
    "        for p2 in os.listdir(path + tdt + '/' + folder + '/' +  p1):\n",
    "\n",
    "            try:\n",
    "            \n",
    "                fullpath = path + tdt + '/' + folder + '/' + p1 + '/' + p2 \n",
    "\n",
    "                text = open(f'{fullpath}/{p1}-{p2}.trans.txt', 'r')\n",
    "                trans = text.read().split('\\n')\n",
    "                labels =[i.split() for i in trans]\n",
    "\n",
    "\n",
    "                names = []\n",
    "                for i in range(len(labels)-1):\n",
    "                    names.append(fullpath + '/' + str(labels[i][0]) + '.flac')\n",
    "\n",
    "                names_list.append(names)\n",
    "\n",
    "                recording = []\n",
    "                for i in range(len(labels)-1):\n",
    "                    recording.append(labels[i][1:])\n",
    "                sentences.append(recording)\n",
    "            except: \n",
    "                pass"
   ]
  },
  {
   "cell_type": "code",
   "execution_count": 11,
   "metadata": {},
   "outputs": [],
   "source": [
    "df = pd.DataFrame()\n",
    "df['File'] = names_list\n",
    "df['Sentence'] = sentences"
   ]
  },
  {
   "cell_type": "code",
   "execution_count": 12,
   "metadata": {},
   "outputs": [],
   "source": [
    "train = df"
   ]
  },
  {
   "cell_type": "code",
   "execution_count": 15,
   "metadata": {},
   "outputs": [],
   "source": [
    "names_list = []\n",
    "\n",
    "sentences = []\n",
    "\n",
    "\n",
    "path = '/home/houston/Desktop/General_Assembly/CapStone/Phase 2'\n",
    "tdt = '/Test'\n",
    "\n",
    "for folder in os.listdir(path + tdt):\n",
    "    \n",
    "    for p1 in os.listdir(path + tdt + '/' + folder):\n",
    "        \n",
    "        for p2 in os.listdir(path + tdt + '/' + folder + '/' +  p1):\n",
    "\n",
    "            try:\n",
    "            \n",
    "                fullpath = path + tdt + '/' + folder + '/' + p1 + '/' + p2\n",
    "\n",
    "                text = open(f'{fullpath}/{p1}-{p2}.trans.txt', 'r')\n",
    "                trans = text.read().split('\\n')\n",
    "                labels =[i.split() for i in trans]\n",
    "\n",
    "\n",
    "                names = []\n",
    "                for i in range(len(labels)-1):\n",
    "                    names.append(fullpath + '/' + str(labels[i][0]) + '.flac')\n",
    "\n",
    "                names_list.append(names)\n",
    "\n",
    "                recording = []\n",
    "                for i in range(len(labels)-1):\n",
    "                    recording.append(labels[i][1:])\n",
    "                sentences.append(recording)\n",
    "            except: \n",
    "                pass"
   ]
  },
  {
   "cell_type": "code",
   "execution_count": 16,
   "metadata": {},
   "outputs": [],
   "source": [
    "df = pd.DataFrame()\n",
    "df['File'] = names_list\n",
    "df['Sentence'] = sentences"
   ]
  },
  {
   "cell_type": "code",
   "execution_count": 17,
   "metadata": {},
   "outputs": [],
   "source": [
    "test = df"
   ]
  },
  {
   "cell_type": "code",
   "execution_count": 19,
   "metadata": {},
   "outputs": [
    {
     "data": {
      "text/plain": [
       "['/home/houston/Desktop/General_Assembly/CapStone/Phase 2/Test/test-clean/8230/279154/8230-279154-0000.flac',\n",
       " '/home/houston/Desktop/General_Assembly/CapStone/Phase 2/Test/test-clean/8230/279154/8230-279154-0001.flac',\n",
       " '/home/houston/Desktop/General_Assembly/CapStone/Phase 2/Test/test-clean/8230/279154/8230-279154-0002.flac',\n",
       " '/home/houston/Desktop/General_Assembly/CapStone/Phase 2/Test/test-clean/8230/279154/8230-279154-0003.flac',\n",
       " '/home/houston/Desktop/General_Assembly/CapStone/Phase 2/Test/test-clean/8230/279154/8230-279154-0004.flac',\n",
       " '/home/houston/Desktop/General_Assembly/CapStone/Phase 2/Test/test-clean/8230/279154/8230-279154-0005.flac',\n",
       " '/home/houston/Desktop/General_Assembly/CapStone/Phase 2/Test/test-clean/8230/279154/8230-279154-0006.flac',\n",
       " '/home/houston/Desktop/General_Assembly/CapStone/Phase 2/Test/test-clean/8230/279154/8230-279154-0007.flac',\n",
       " '/home/houston/Desktop/General_Assembly/CapStone/Phase 2/Test/test-clean/8230/279154/8230-279154-0008.flac',\n",
       " '/home/houston/Desktop/General_Assembly/CapStone/Phase 2/Test/test-clean/8230/279154/8230-279154-0009.flac',\n",
       " '/home/houston/Desktop/General_Assembly/CapStone/Phase 2/Test/test-clean/8230/279154/8230-279154-0010.flac',\n",
       " '/home/houston/Desktop/General_Assembly/CapStone/Phase 2/Test/test-clean/8230/279154/8230-279154-0011.flac',\n",
       " '/home/houston/Desktop/General_Assembly/CapStone/Phase 2/Test/test-clean/8230/279154/8230-279154-0012.flac',\n",
       " '/home/houston/Desktop/General_Assembly/CapStone/Phase 2/Test/test-clean/8230/279154/8230-279154-0013.flac',\n",
       " '/home/houston/Desktop/General_Assembly/CapStone/Phase 2/Test/test-clean/8230/279154/8230-279154-0014.flac',\n",
       " '/home/houston/Desktop/General_Assembly/CapStone/Phase 2/Test/test-clean/8230/279154/8230-279154-0015.flac',\n",
       " '/home/houston/Desktop/General_Assembly/CapStone/Phase 2/Test/test-clean/8230/279154/8230-279154-0016.flac',\n",
       " '/home/houston/Desktop/General_Assembly/CapStone/Phase 2/Test/test-clean/8230/279154/8230-279154-0017.flac',\n",
       " '/home/houston/Desktop/General_Assembly/CapStone/Phase 2/Test/test-clean/8230/279154/8230-279154-0018.flac',\n",
       " '/home/houston/Desktop/General_Assembly/CapStone/Phase 2/Test/test-clean/8230/279154/8230-279154-0019.flac',\n",
       " '/home/houston/Desktop/General_Assembly/CapStone/Phase 2/Test/test-clean/8230/279154/8230-279154-0020.flac',\n",
       " '/home/houston/Desktop/General_Assembly/CapStone/Phase 2/Test/test-clean/8230/279154/8230-279154-0021.flac',\n",
       " '/home/houston/Desktop/General_Assembly/CapStone/Phase 2/Test/test-clean/8230/279154/8230-279154-0022.flac',\n",
       " '/home/houston/Desktop/General_Assembly/CapStone/Phase 2/Test/test-clean/8230/279154/8230-279154-0023.flac',\n",
       " '/home/houston/Desktop/General_Assembly/CapStone/Phase 2/Test/test-clean/8230/279154/8230-279154-0024.flac',\n",
       " '/home/houston/Desktop/General_Assembly/CapStone/Phase 2/Test/test-clean/8230/279154/8230-279154-0025.flac',\n",
       " '/home/houston/Desktop/General_Assembly/CapStone/Phase 2/Test/test-clean/8230/279154/8230-279154-0026.flac',\n",
       " '/home/houston/Desktop/General_Assembly/CapStone/Phase 2/Test/test-clean/8230/279154/8230-279154-0027.flac',\n",
       " '/home/houston/Desktop/General_Assembly/CapStone/Phase 2/Test/test-clean/8230/279154/8230-279154-0028.flac',\n",
       " '/home/houston/Desktop/General_Assembly/CapStone/Phase 2/Test/test-clean/8230/279154/8230-279154-0029.flac',\n",
       " '/home/houston/Desktop/General_Assembly/CapStone/Phase 2/Test/test-clean/8230/279154/8230-279154-0030.flac',\n",
       " '/home/houston/Desktop/General_Assembly/CapStone/Phase 2/Test/test-clean/8230/279154/8230-279154-0031.flac',\n",
       " '/home/houston/Desktop/General_Assembly/CapStone/Phase 2/Test/test-clean/8230/279154/8230-279154-0032.flac',\n",
       " '/home/houston/Desktop/General_Assembly/CapStone/Phase 2/Test/test-clean/8230/279154/8230-279154-0033.flac',\n",
       " '/home/houston/Desktop/General_Assembly/CapStone/Phase 2/Test/test-clean/8230/279154/8230-279154-0034.flac',\n",
       " '/home/houston/Desktop/General_Assembly/CapStone/Phase 2/Test/test-clean/8230/279154/8230-279154-0035.flac',\n",
       " '/home/houston/Desktop/General_Assembly/CapStone/Phase 2/Test/test-clean/8230/279154/8230-279154-0036.flac',\n",
       " '/home/houston/Desktop/General_Assembly/CapStone/Phase 2/Test/test-clean/8230/279154/8230-279154-0037.flac',\n",
       " '/home/houston/Desktop/General_Assembly/CapStone/Phase 2/Test/test-clean/8230/279154/8230-279154-0038.flac',\n",
       " '/home/houston/Desktop/General_Assembly/CapStone/Phase 2/Test/test-clean/8230/279154/8230-279154-0039.flac',\n",
       " '/home/houston/Desktop/General_Assembly/CapStone/Phase 2/Test/test-clean/8230/279154/8230-279154-0040.flac',\n",
       " '/home/houston/Desktop/General_Assembly/CapStone/Phase 2/Test/test-clean/8230/279154/8230-279154-0041.flac',\n",
       " '/home/houston/Desktop/General_Assembly/CapStone/Phase 2/Test/test-clean/8230/279154/8230-279154-0042.flac',\n",
       " '/home/houston/Desktop/General_Assembly/CapStone/Phase 2/Test/test-clean/8230/279154/8230-279154-0043.flac']"
      ]
     },
     "execution_count": 19,
     "metadata": {},
     "output_type": "execute_result"
    }
   ],
   "source": [
    "test.loc[0]['File']"
   ]
  },
  {
   "cell_type": "code",
   "execution_count": 20,
   "metadata": {},
   "outputs": [],
   "source": [
    "names_list = []\n",
    "\n",
    "sentences = []\n",
    "\n",
    "\n",
    "path = '/home/houston/Desktop/General_Assembly/CapStone/Phase 2'\n",
    "tdt = '/Dev'\n",
    "\n",
    "for folder in os.listdir(path + tdt):\n",
    "    \n",
    "    for p1 in os.listdir(path + tdt + '/' + folder):\n",
    "        \n",
    "        for p2 in os.listdir(path + tdt + '/' + folder + '/' +  p1):\n",
    "\n",
    "            try:\n",
    "            \n",
    "                fullpath = path + tdt + '/' + folder + '/' + p1 + '/' + p2\n",
    "\n",
    "                text = open(f'{fullpath}/{p1}-{p2}.trans.txt', 'r')\n",
    "                trans = text.read().split('\\n')\n",
    "                labels =[i.split() for i in trans]\n",
    "\n",
    "\n",
    "                names = []\n",
    "                for i in range(len(labels)-1):\n",
    "                    names.append(fullpath + '/' +  str(labels[i][0]) + '.flac')\n",
    "\n",
    "                names_list.append(names)\n",
    "\n",
    "                recording = []\n",
    "                for i in range(len(labels)-1):\n",
    "                    recording.append(labels[i][1:])\n",
    "                sentences.append(recording)\n",
    "            except: \n",
    "                pass"
   ]
  },
  {
   "cell_type": "code",
   "execution_count": 21,
   "metadata": {},
   "outputs": [],
   "source": [
    "df = pd.DataFrame()\n",
    "df['File'] = names_list\n",
    "df['Sentence'] = sentences"
   ]
  },
  {
   "cell_type": "code",
   "execution_count": 22,
   "metadata": {},
   "outputs": [],
   "source": [
    "dev = df"
   ]
  },
  {
   "cell_type": "code",
   "execution_count": 23,
   "metadata": {},
   "outputs": [],
   "source": [
    "root_train = pd.DataFrame()\n",
    "\n",
    "for i, j in train.iterrows():\n",
    "    df = pd.DataFrame()\n",
    "    df['File'] = train.loc[i][0]\n",
    "    df['Sentece'] = train.loc[i][1]\n",
    "    \n",
    "    root_train = pd.concat([root_train, df])"
   ]
  },
  {
   "cell_type": "code",
   "execution_count": 24,
   "metadata": {},
   "outputs": [],
   "source": [
    "root_train.reset_index(inplace=True)"
   ]
  },
  {
   "cell_type": "code",
   "execution_count": 25,
   "metadata": {},
   "outputs": [],
   "source": [
    "root_test = pd.DataFrame()\n",
    "\n",
    "for i, j in test.iterrows():\n",
    "    df = pd.DataFrame()\n",
    "    df['File'] = test.loc[i][0]\n",
    "    df['Sentece'] = test.loc[i][1]\n",
    "    \n",
    "    root_test = pd.concat([root_test, df])\n",
    "    \n",
    "root_test.reset_index(inplace=True)"
   ]
  },
  {
   "cell_type": "code",
   "execution_count": 26,
   "metadata": {},
   "outputs": [],
   "source": [
    "root_dev = pd.DataFrame()\n",
    "\n",
    "for i, j in dev.iterrows():\n",
    "    df = pd.DataFrame()\n",
    "    df['File'] = dev.loc[i][0]\n",
    "    df['Sentece'] = dev.loc[i][1]\n",
    "    \n",
    "    root_dev = pd.concat([root_dev, df])\n",
    "    \n",
    "root_dev.reset_index(inplace=True)"
   ]
  },
  {
   "cell_type": "code",
   "execution_count": 27,
   "metadata": {},
   "outputs": [
    {
     "data": {
      "text/html": [
       "<div>\n",
       "<style scoped>\n",
       "    .dataframe tbody tr th:only-of-type {\n",
       "        vertical-align: middle;\n",
       "    }\n",
       "\n",
       "    .dataframe tbody tr th {\n",
       "        vertical-align: top;\n",
       "    }\n",
       "\n",
       "    .dataframe thead th {\n",
       "        text-align: right;\n",
       "    }\n",
       "</style>\n",
       "<table border=\"1\" class=\"dataframe\">\n",
       "  <thead>\n",
       "    <tr style=\"text-align: right;\">\n",
       "      <th></th>\n",
       "      <th>index</th>\n",
       "      <th>File</th>\n",
       "      <th>Sentece</th>\n",
       "    </tr>\n",
       "  </thead>\n",
       "  <tbody>\n",
       "    <tr>\n",
       "      <th>0</th>\n",
       "      <td>0</td>\n",
       "      <td>/home/houston/Desktop/General_Assembly/CapSton...</td>\n",
       "      <td>[THE, ANALYSIS, OF, KNOWLEDGE, WILL, OCCUPY, U...</td>\n",
       "    </tr>\n",
       "    <tr>\n",
       "      <th>1</th>\n",
       "      <td>1</td>\n",
       "      <td>/home/houston/Desktop/General_Assembly/CapSton...</td>\n",
       "      <td>[WHAT, IS, CALLED, PERCEPTION, DIFFERS, FROM, ...</td>\n",
       "    </tr>\n",
       "    <tr>\n",
       "      <th>2</th>\n",
       "      <td>2</td>\n",
       "      <td>/home/houston/Desktop/General_Assembly/CapSton...</td>\n",
       "      <td>[WHETHER, OR, NOT, THIS, PRINCIPLE, IS, LIABLE...</td>\n",
       "    </tr>\n",
       "    <tr>\n",
       "      <th>3</th>\n",
       "      <td>3</td>\n",
       "      <td>/home/houston/Desktop/General_Assembly/CapSton...</td>\n",
       "      <td>[AND, WHAT, SORT, OF, EVIDENCE, IS, LOGICALLY,...</td>\n",
       "    </tr>\n",
       "    <tr>\n",
       "      <th>4</th>\n",
       "      <td>4</td>\n",
       "      <td>/home/houston/Desktop/General_Assembly/CapSton...</td>\n",
       "      <td>[THERE, IS, NO, LOGICAL, IMPOSSIBILITY, IN, TH...</td>\n",
       "    </tr>\n",
       "    <tr>\n",
       "      <th>...</th>\n",
       "      <td>...</td>\n",
       "      <td>...</td>\n",
       "      <td>...</td>\n",
       "    </tr>\n",
       "    <tr>\n",
       "      <th>5554</th>\n",
       "      <td>53</td>\n",
       "      <td>/home/houston/Desktop/General_Assembly/CapSton...</td>\n",
       "      <td>[THERE, WAS, A, RATTLE, OF, COINS, ON, THE, MA...</td>\n",
       "    </tr>\n",
       "    <tr>\n",
       "      <th>5555</th>\n",
       "      <td>54</td>\n",
       "      <td>/home/houston/Desktop/General_Assembly/CapSton...</td>\n",
       "      <td>[IT'S, IT'S, AN, ODD, COIN, AN, OLD, ROMAN, ON...</td>\n",
       "    </tr>\n",
       "    <tr>\n",
       "      <th>5556</th>\n",
       "      <td>55</td>\n",
       "      <td>/home/houston/Desktop/General_Assembly/CapSton...</td>\n",
       "      <td>[I, WENT, OVER, THEM, THE, OTHER, DAY, AND, NO...</td>\n",
       "    </tr>\n",
       "    <tr>\n",
       "      <th>5557</th>\n",
       "      <td>56</td>\n",
       "      <td>/home/houston/Desktop/General_Assembly/CapSton...</td>\n",
       "      <td>[THAT, WAS, HERS, WENT, ON, THE, JEWELER]</td>\n",
       "    </tr>\n",
       "    <tr>\n",
       "      <th>5558</th>\n",
       "      <td>57</td>\n",
       "      <td>/home/houston/Desktop/General_Assembly/CapSton...</td>\n",
       "      <td>[NOW, HARRY, KING, HAS, IT, EXCLAIMED, COLONEL...</td>\n",
       "    </tr>\n",
       "  </tbody>\n",
       "</table>\n",
       "<p>5559 rows × 3 columns</p>\n",
       "</div>"
      ],
      "text/plain": [
       "      index                                               File  \\\n",
       "0         0  /home/houston/Desktop/General_Assembly/CapSton...   \n",
       "1         1  /home/houston/Desktop/General_Assembly/CapSton...   \n",
       "2         2  /home/houston/Desktop/General_Assembly/CapSton...   \n",
       "3         3  /home/houston/Desktop/General_Assembly/CapSton...   \n",
       "4         4  /home/houston/Desktop/General_Assembly/CapSton...   \n",
       "...     ...                                                ...   \n",
       "5554     53  /home/houston/Desktop/General_Assembly/CapSton...   \n",
       "5555     54  /home/houston/Desktop/General_Assembly/CapSton...   \n",
       "5556     55  /home/houston/Desktop/General_Assembly/CapSton...   \n",
       "5557     56  /home/houston/Desktop/General_Assembly/CapSton...   \n",
       "5558     57  /home/houston/Desktop/General_Assembly/CapSton...   \n",
       "\n",
       "                                                Sentece  \n",
       "0     [THE, ANALYSIS, OF, KNOWLEDGE, WILL, OCCUPY, U...  \n",
       "1     [WHAT, IS, CALLED, PERCEPTION, DIFFERS, FROM, ...  \n",
       "2     [WHETHER, OR, NOT, THIS, PRINCIPLE, IS, LIABLE...  \n",
       "3     [AND, WHAT, SORT, OF, EVIDENCE, IS, LOGICALLY,...  \n",
       "4     [THERE, IS, NO, LOGICAL, IMPOSSIBILITY, IN, TH...  \n",
       "...                                                 ...  \n",
       "5554  [THERE, WAS, A, RATTLE, OF, COINS, ON, THE, MA...  \n",
       "5555  [IT'S, IT'S, AN, ODD, COIN, AN, OLD, ROMAN, ON...  \n",
       "5556  [I, WENT, OVER, THEM, THE, OTHER, DAY, AND, NO...  \n",
       "5557          [THAT, WAS, HERS, WENT, ON, THE, JEWELER]  \n",
       "5558  [NOW, HARRY, KING, HAS, IT, EXCLAIMED, COLONEL...  \n",
       "\n",
       "[5559 rows x 3 columns]"
      ]
     },
     "execution_count": 27,
     "metadata": {},
     "output_type": "execute_result"
    }
   ],
   "source": [
    "root_test"
   ]
  },
  {
   "cell_type": "code",
   "execution_count": 28,
   "metadata": {},
   "outputs": [
    {
     "data": {
      "text/html": [
       "<div>\n",
       "<style scoped>\n",
       "    .dataframe tbody tr th:only-of-type {\n",
       "        vertical-align: middle;\n",
       "    }\n",
       "\n",
       "    .dataframe tbody tr th {\n",
       "        vertical-align: top;\n",
       "    }\n",
       "\n",
       "    .dataframe thead th {\n",
       "        text-align: right;\n",
       "    }\n",
       "</style>\n",
       "<table border=\"1\" class=\"dataframe\">\n",
       "  <thead>\n",
       "    <tr style=\"text-align: right;\">\n",
       "      <th></th>\n",
       "      <th>index</th>\n",
       "      <th>File</th>\n",
       "      <th>Sentece</th>\n",
       "    </tr>\n",
       "  </thead>\n",
       "  <tbody>\n",
       "    <tr>\n",
       "      <th>0</th>\n",
       "      <td>0</td>\n",
       "      <td>/home/houston/Desktop/General_Assembly/CapSton...</td>\n",
       "      <td>[A, MAN, SAID, TO, THE, UNIVERSE, SIR, I, EXIST]</td>\n",
       "    </tr>\n",
       "    <tr>\n",
       "      <th>1</th>\n",
       "      <td>1</td>\n",
       "      <td>/home/houston/Desktop/General_Assembly/CapSton...</td>\n",
       "      <td>[SWEAT, COVERED, BRION'S, BODY, TRICKLING, INT...</td>\n",
       "    </tr>\n",
       "    <tr>\n",
       "      <th>2</th>\n",
       "      <td>2</td>\n",
       "      <td>/home/houston/Desktop/General_Assembly/CapSton...</td>\n",
       "      <td>[THE, CUT, ON, HIS, CHEST, STILL, DRIPPING, BL...</td>\n",
       "    </tr>\n",
       "    <tr>\n",
       "      <th>3</th>\n",
       "      <td>3</td>\n",
       "      <td>/home/houston/Desktop/General_Assembly/CapSton...</td>\n",
       "      <td>[HIS, INSTANT, OF, PANIC, WAS, FOLLOWED, BY, A...</td>\n",
       "    </tr>\n",
       "    <tr>\n",
       "      <th>4</th>\n",
       "      <td>4</td>\n",
       "      <td>/home/houston/Desktop/General_Assembly/CapSton...</td>\n",
       "      <td>[ONE, MINUTE, A, VOICE, SAID, AND, THE, TIME, ...</td>\n",
       "    </tr>\n",
       "    <tr>\n",
       "      <th>...</th>\n",
       "      <td>...</td>\n",
       "      <td>...</td>\n",
       "      <td>...</td>\n",
       "    </tr>\n",
       "    <tr>\n",
       "      <th>5562</th>\n",
       "      <td>31</td>\n",
       "      <td>/home/houston/Desktop/General_Assembly/CapSton...</td>\n",
       "      <td>[WILLIAMS, HAD, TO, CONFESS, HE, WAS, BEATEN, ...</td>\n",
       "    </tr>\n",
       "    <tr>\n",
       "      <th>5563</th>\n",
       "      <td>32</td>\n",
       "      <td>/home/houston/Desktop/General_Assembly/CapSton...</td>\n",
       "      <td>[THE, BILGE, PUMP, IS, DEPENDENT, ON, THE, MAI...</td>\n",
       "    </tr>\n",
       "    <tr>\n",
       "      <th>5564</th>\n",
       "      <td>33</td>\n",
       "      <td>/home/houston/Desktop/General_Assembly/CapSton...</td>\n",
       "      <td>[ON, ONE, OCCASION, I, WAS, WAIST, DEEP, WHEN,...</td>\n",
       "    </tr>\n",
       "    <tr>\n",
       "      <th>5565</th>\n",
       "      <td>34</td>\n",
       "      <td>/home/houston/Desktop/General_Assembly/CapSton...</td>\n",
       "      <td>[THE, AFTERGUARD, WERE, ORGANISED, IN, TWO, PA...</td>\n",
       "    </tr>\n",
       "    <tr>\n",
       "      <th>5566</th>\n",
       "      <td>35</td>\n",
       "      <td>/home/houston/Desktop/General_Assembly/CapSton...</td>\n",
       "      <td>[OCCASIONALLY, A, HEAVY, SEA, WOULD, BEAR, ONE...</td>\n",
       "    </tr>\n",
       "  </tbody>\n",
       "</table>\n",
       "<p>5567 rows × 3 columns</p>\n",
       "</div>"
      ],
      "text/plain": [
       "      index                                               File  \\\n",
       "0         0  /home/houston/Desktop/General_Assembly/CapSton...   \n",
       "1         1  /home/houston/Desktop/General_Assembly/CapSton...   \n",
       "2         2  /home/houston/Desktop/General_Assembly/CapSton...   \n",
       "3         3  /home/houston/Desktop/General_Assembly/CapSton...   \n",
       "4         4  /home/houston/Desktop/General_Assembly/CapSton...   \n",
       "...     ...                                                ...   \n",
       "5562     31  /home/houston/Desktop/General_Assembly/CapSton...   \n",
       "5563     32  /home/houston/Desktop/General_Assembly/CapSton...   \n",
       "5564     33  /home/houston/Desktop/General_Assembly/CapSton...   \n",
       "5565     34  /home/houston/Desktop/General_Assembly/CapSton...   \n",
       "5566     35  /home/houston/Desktop/General_Assembly/CapSton...   \n",
       "\n",
       "                                                Sentece  \n",
       "0      [A, MAN, SAID, TO, THE, UNIVERSE, SIR, I, EXIST]  \n",
       "1     [SWEAT, COVERED, BRION'S, BODY, TRICKLING, INT...  \n",
       "2     [THE, CUT, ON, HIS, CHEST, STILL, DRIPPING, BL...  \n",
       "3     [HIS, INSTANT, OF, PANIC, WAS, FOLLOWED, BY, A...  \n",
       "4     [ONE, MINUTE, A, VOICE, SAID, AND, THE, TIME, ...  \n",
       "...                                                 ...  \n",
       "5562  [WILLIAMS, HAD, TO, CONFESS, HE, WAS, BEATEN, ...  \n",
       "5563  [THE, BILGE, PUMP, IS, DEPENDENT, ON, THE, MAI...  \n",
       "5564  [ON, ONE, OCCASION, I, WAS, WAIST, DEEP, WHEN,...  \n",
       "5565  [THE, AFTERGUARD, WERE, ORGANISED, IN, TWO, PA...  \n",
       "5566  [OCCASIONALLY, A, HEAVY, SEA, WOULD, BEAR, ONE...  \n",
       "\n",
       "[5567 rows x 3 columns]"
      ]
     },
     "execution_count": 28,
     "metadata": {},
     "output_type": "execute_result"
    }
   ],
   "source": [
    "root_dev"
   ]
  },
  {
   "cell_type": "code",
   "execution_count": 29,
   "metadata": {},
   "outputs": [],
   "source": [
    "root_train.to_csv('./Directories/Train.csv')\n",
    "root_test.to_csv('./Directories/Test.csv')\n",
    "root_dev.to_csv('./Directories/Dev.csv')"
   ]
  },
  {
   "cell_type": "code",
   "execution_count": null,
   "metadata": {},
   "outputs": [],
   "source": []
  }
 ],
 "metadata": {
  "kernelspec": {
   "display_name": "Python 3",
   "language": "python",
   "name": "python3"
  },
  "language_info": {
   "codemirror_mode": {
    "name": "ipython",
    "version": 3
   },
   "file_extension": ".py",
   "mimetype": "text/x-python",
   "name": "python",
   "nbconvert_exporter": "python",
   "pygments_lexer": "ipython3",
   "version": "3.7.6"
  }
 },
 "nbformat": 4,
 "nbformat_minor": 4
}
