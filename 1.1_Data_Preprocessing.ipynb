{
 "cells": [
  {
   "cell_type": "code",
   "execution_count": 1,
   "metadata": {},
   "outputs": [],
   "source": [
    "import pandas as pd\n",
    "import os"
   ]
  },
  {
   "cell_type": "markdown",
   "metadata": {},
   "source": [
    "### Generate a List of File Folders:\n",
    "\n",
    "These file folder names are also the titles which correspond to the Wikipedia article that was being read.\n",
    "\n",
    "All of the data used in this notebook was pulled from https://nats.gitlab.io/swc/"
   ]
  },
  {
   "cell_type": "code",
   "execution_count": 2,
   "metadata": {},
   "outputs": [],
   "source": [
    "english_folder_list = os.listdir('./data/English/english')\n",
    "german_folder_list = os.listdir('./data/German/german')"
   ]
  },
  {
   "cell_type": "markdown",
   "metadata": {},
   "source": [
    "### Pull audio file names from list:\n",
    "\n",
    "Using a for loop I have generated a list of audio.ogg files using the .pop() function (A few entries have multiple audio files. ) \n",
    "\n",
    "With the English Audio files the audio2 always comes last, so I can just filter for the audio1 later. "
   ]
  },
  {
   "cell_type": "code",
   "execution_count": 3,
   "metadata": {},
   "outputs": [],
   "source": [
    "english_files = []\n",
    "for i in english_folder_list:\n",
    "    try: \n",
    "        file = [x for x in os.listdir(f'./data/English/english/{i}/') if x.endswith('ogg')].pop()\n",
    "    except:\n",
    "        file = 'None'\n",
    "    english_files.append(file)"
   ]
  },
  {
   "cell_type": "markdown",
   "metadata": {},
   "source": [
    "#### Verify lengths\n",
    "\n",
    "To make sure I didn't have any extraction errors I will compare the length of the generate list to the input list."
   ]
  },
  {
   "cell_type": "code",
   "execution_count": 4,
   "metadata": {},
   "outputs": [
    {
     "data": {
      "text/plain": [
       "1340"
      ]
     },
     "execution_count": 4,
     "metadata": {},
     "output_type": "execute_result"
    }
   ],
   "source": [
    "len(english_folder_list)"
   ]
  },
  {
   "cell_type": "code",
   "execution_count": 5,
   "metadata": {},
   "outputs": [
    {
     "data": {
      "text/plain": [
       "1340"
      ]
     },
     "execution_count": 5,
     "metadata": {},
     "output_type": "execute_result"
    }
   ],
   "source": [
    "len(english_files)"
   ]
  },
  {
   "cell_type": "markdown",
   "metadata": {},
   "source": [
    "### Convert to DataFrame:\n",
    "\n",
    "I cast the files into a DataFrame to store it for later use."
   ]
  },
  {
   "cell_type": "code",
   "execution_count": 6,
   "metadata": {},
   "outputs": [],
   "source": [
    "english_file_df = pd.DataFrame()\n",
    "english_file_df['Title'] = english_folder_list\n",
    "english_file_df['Filename'] = english_files"
   ]
  },
  {
   "cell_type": "markdown",
   "metadata": {},
   "source": [
    "#### Check for Nones:\n",
    "\n",
    "There are a few ```None``` data entries. \n",
    "\n",
    "We'll use a mask to drop these values from the DataFrame since this will save me from writing ```try: and except:``` in my later data preparation."
   ]
  },
  {
   "cell_type": "code",
   "execution_count": 7,
   "metadata": {},
   "outputs": [
    {
     "data": {
      "text/plain": [
       "audio.ogg     1270\n",
       "audio2.ogg      64\n",
       "None             6\n",
       "Name: Filename, dtype: int64"
      ]
     },
     "execution_count": 7,
     "metadata": {},
     "output_type": "execute_result"
    }
   ],
   "source": [
    "english_file_df['Filename'].value_counts()\n"
   ]
  },
  {
   "cell_type": "code",
   "execution_count": 8,
   "metadata": {},
   "outputs": [],
   "source": [
    "english_file_df = english_file_df[english_file_df['Filename'] !='None']"
   ]
  },
  {
   "cell_type": "markdown",
   "metadata": {},
   "source": [
    "#### Repeat the process above for Audio Files ending in 1.ogg\n",
    "\n",
    "The below steps are the same as the steps above except they are designed to pull only the files ending in 1.ogg which were missing from the original DataFrame."
   ]
  },
  {
   "cell_type": "code",
   "execution_count": 9,
   "metadata": {},
   "outputs": [],
   "source": [
    "english_files = []\n",
    "for i in english_folder_list:\n",
    "    try: \n",
    "        file = [x for x in os.listdir(f'./data/English/english/{i}/') if x.endswith('1.ogg')].pop()\n",
    "    except:\n",
    "        file = 'None'\n",
    "    english_files.append(file)\n",
    "\n",
    "# Generate Second DataFrame for Audio File ending in 1.ogg\n",
    "    \n",
    "english_file_df2 = pd.DataFrame()\n",
    "english_file_df2['Title'] = english_folder_list\n",
    "english_file_df2['Filename'] = english_files\n",
    "\n",
    "# Drop 'None' Rows\n",
    "\n",
    "english_file_df2 = english_file_df2[english_file_df2['Filename'] != 'None']"
   ]
  },
  {
   "cell_type": "markdown",
   "metadata": {},
   "source": [
    "### Concat:\n",
    "\n",
    "Bring the Dataframes together using concatenation. Check the length and reset the index."
   ]
  },
  {
   "cell_type": "code",
   "execution_count": 10,
   "metadata": {},
   "outputs": [],
   "source": [
    "english_file_df = pd.concat([english_file_df, english_file_df2])"
   ]
  },
  {
   "cell_type": "code",
   "execution_count": 11,
   "metadata": {},
   "outputs": [
    {
     "data": {
      "text/plain": [
       "1398"
      ]
     },
     "execution_count": 11,
     "metadata": {},
     "output_type": "execute_result"
    }
   ],
   "source": [
    "len(english_file_df)"
   ]
  },
  {
   "cell_type": "code",
   "execution_count": 12,
   "metadata": {},
   "outputs": [],
   "source": [
    "english_file_df.reset_index(inplace=True)"
   ]
  },
  {
   "cell_type": "markdown",
   "metadata": {},
   "source": [
    "### Repeat for German:\n",
    "\n",
    "The beginning starts out the same but you'll see the value_counts are a little different so we're going to do a little meta exploring to check out what's going on."
   ]
  },
  {
   "cell_type": "code",
   "execution_count": 13,
   "metadata": {},
   "outputs": [
    {
     "data": {
      "text/plain": [
       "audio.ogg     942\n",
       "audio2.ogg     69\n",
       "None            3\n",
       "audio1.ogg      1\n",
       "Name: Filename, dtype: int64"
      ]
     },
     "execution_count": 13,
     "metadata": {},
     "output_type": "execute_result"
    }
   ],
   "source": [
    "# Collect Files:\n",
    "\n",
    "german_files = []\n",
    "for i in german_folder_list:\n",
    "    try: \n",
    "        file = [x for x in os.listdir(f'./data/German/german/{i}/') if x.endswith('ogg')].pop()\n",
    "    except:\n",
    "        file = 'None'\n",
    "    german_files.append(file)\n",
    "\n",
    "# Create DataFrame matching titles to audio files\n",
    "\n",
    "german_file_df = pd.DataFrame()\n",
    "german_file_df['Title'] = german_folder_list\n",
    "german_file_df['Filename'] = german_files\n",
    "\n",
    "# Check the value_counts()\n",
    "\n",
    "german_file_df['Filename'].value_counts()"
   ]
  },
  {
   "cell_type": "markdown",
   "metadata": {},
   "source": [
    "#### Weird...\n",
    "\n",
    "There is a single file that read in as 1. But the remainder were two. So we'll have to repeat the steps above to for both file endings ```1.ogg and 2.ogg``` to see what's happening.\n",
    "\n",
    "But first lets remove the ```'None'``` from the first DataFrame"
   ]
  },
  {
   "cell_type": "code",
   "execution_count": 14,
   "metadata": {},
   "outputs": [],
   "source": [
    "german_file_df = german_file_df[german_file_df['Filename'] != 'None']"
   ]
  },
  {
   "cell_type": "markdown",
   "metadata": {},
   "source": [
    "#### Repeat with ```1.ogg```"
   ]
  },
  {
   "cell_type": "code",
   "execution_count": 15,
   "metadata": {},
   "outputs": [
    {
     "data": {
      "text/plain": [
       "audio1.ogg    70\n",
       "Name: Filename, dtype: int64"
      ]
     },
     "execution_count": 15,
     "metadata": {},
     "output_type": "execute_result"
    }
   ],
   "source": [
    "# Collect Files:\n",
    "\n",
    "german_files = []\n",
    "for i in german_folder_list:\n",
    "    try: \n",
    "        file = [x for x in os.listdir(f'./data/German/german/{i}/') if x.endswith('1.ogg')].pop()\n",
    "    except:\n",
    "        file = 'None'\n",
    "    german_files.append(file)\n",
    "\n",
    "# Create DataFrame:    \n",
    "    \n",
    "german_file_df2 = pd.DataFrame()\n",
    "german_file_df2['Title'] = german_folder_list\n",
    "german_file_df2['Filename'] = german_files\n",
    "\n",
    "# Drop ```'None'```:\n",
    "\n",
    "german_file_df2 = german_file_df2[german_file_df2['Filename'] != 'None']\n",
    "\n",
    "# Check Values:\n",
    "\n",
    "german_file_df2['Filename'].value_counts()"
   ]
  },
  {
   "cell_type": "markdown",
   "metadata": {},
   "source": [
    "#### Wait....\n",
    "\n",
    "We collected 1 ```audio1.ogg``` file earlier. But we have 70 here. \n",
    "\n",
    "Let's look at ```audio2.ogg``` really quick."
   ]
  },
  {
   "cell_type": "code",
   "execution_count": 16,
   "metadata": {},
   "outputs": [
    {
     "data": {
      "text/plain": [
       "audio2.ogg    69\n",
       "Name: Filename, dtype: int64"
      ]
     },
     "execution_count": 16,
     "metadata": {},
     "output_type": "execute_result"
    }
   ],
   "source": [
    "# Collect Files:\n",
    "\n",
    "german_files = []\n",
    "for i in german_folder_list:\n",
    "    try: \n",
    "        file = [x for x in os.listdir(f'./data/German/german/{i}/') if x.endswith('2.ogg')].pop()\n",
    "    except:\n",
    "        file = 'None'\n",
    "    german_files.append(file)\n",
    "\n",
    "# Create DataFrame:    \n",
    "    \n",
    "german_file_df3 = pd.DataFrame()\n",
    "german_file_df3['Title'] = german_folder_list\n",
    "german_file_df3['Filename'] = german_files\n",
    "\n",
    "# Drop ```'None'```:\n",
    "\n",
    "german_file_df3 = german_file_df3[german_file_df3['Filename'] != 'None']\n",
    "\n",
    "# Check Values:\n",
    "\n",
    "german_file_df3['Filename'].value_counts()"
   ]
  },
  {
   "cell_type": "markdown",
   "metadata": {},
   "source": [
    "#### Interesting:\n",
    "\n",
    "So we have 69 ```audio2.ogg``` files. I will reference as '1' and '2' now.\n",
    "\n",
    "In '1' We collected 70 which indicates there are 70 folders which have a '1' and '2' file. \n",
    "\n",
    "However, in '2' we only collected 69. This (to me at least) indicates that one file was name '1' instead of 'blank' accidentally. Since we already have all of '2' in the DataFrame there is no need to concatenate it.\n",
    "\n",
    "Let's bring the 'blank' and '1' files together."
   ]
  },
  {
   "cell_type": "code",
   "execution_count": 17,
   "metadata": {},
   "outputs": [],
   "source": [
    "german_file_df = pd.concat([german_file_df, german_file_df2])"
   ]
  },
  {
   "cell_type": "markdown",
   "metadata": {},
   "source": [
    "#### Testing:\n",
    "\n",
    "If my theory is true dropping the duplicate files will only result in the loss of one file. "
   ]
  },
  {
   "cell_type": "code",
   "execution_count": 18,
   "metadata": {},
   "outputs": [
    {
     "data": {
      "text/plain": [
       "1082"
      ]
     },
     "execution_count": 18,
     "metadata": {},
     "output_type": "execute_result"
    }
   ],
   "source": [
    "len(german_file_df)"
   ]
  },
  {
   "cell_type": "code",
   "execution_count": 19,
   "metadata": {},
   "outputs": [
    {
     "data": {
      "text/plain": [
       "1081"
      ]
     },
     "execution_count": 19,
     "metadata": {},
     "output_type": "execute_result"
    }
   ],
   "source": [
    "len(german_file_df.drop_duplicates())"
   ]
  },
  {
   "cell_type": "markdown",
   "metadata": {},
   "source": [
    "#### Seems it was correct:\n",
    "\n",
    "So now we a DataFrame for all of the English and German audio files. Let's go ahead and make that drop above permanent and set some values to represent the languages, since that is what I'll be testing for. "
   ]
  },
  {
   "cell_type": "code",
   "execution_count": 20,
   "metadata": {},
   "outputs": [],
   "source": [
    "german_file_df.drop_duplicates(inplace=True)"
   ]
  },
  {
   "cell_type": "code",
   "execution_count": 21,
   "metadata": {},
   "outputs": [
    {
     "name": "stderr",
     "output_type": "stream",
     "text": [
      "/home/houston/anaconda3/lib/python3.7/site-packages/ipykernel_launcher.py:4: FutureWarning: Sorting because non-concatenation axis is not aligned. A future version\n",
      "of pandas will change to not sort by default.\n",
      "\n",
      "To accept the future behavior, pass 'sort=False'.\n",
      "\n",
      "To retain the current behavior and silence the warning, pass 'sort=True'.\n",
      "\n",
      "  after removing the cwd from sys.path.\n"
     ]
    }
   ],
   "source": [
    "english_file_df['Language'] = 1\n",
    "german_file_df['Language'] = 0\n",
    "\n",
    "file_df = pd.concat([english_file_df, german_file_df])"
   ]
  },
  {
   "cell_type": "markdown",
   "metadata": {},
   "source": [
    "### Finalizing:\n",
    "\n",
    "Now that we have all of the data together let's go ahead and 1.) drop the excess rows that were generated by changing the index 2.) Fully reset the index and 3.) Check to make sure it all looks good.\n"
   ]
  },
  {
   "cell_type": "code",
   "execution_count": 22,
   "metadata": {},
   "outputs": [
    {
     "data": {
      "text/html": [
       "<div>\n",
       "<style scoped>\n",
       "    .dataframe tbody tr th:only-of-type {\n",
       "        vertical-align: middle;\n",
       "    }\n",
       "\n",
       "    .dataframe tbody tr th {\n",
       "        vertical-align: top;\n",
       "    }\n",
       "\n",
       "    .dataframe thead th {\n",
       "        text-align: right;\n",
       "    }\n",
       "</style>\n",
       "<table border=\"1\" class=\"dataframe\">\n",
       "  <thead>\n",
       "    <tr style=\"text-align: right;\">\n",
       "      <th></th>\n",
       "      <th>Filename</th>\n",
       "      <th>Language</th>\n",
       "      <th>Title</th>\n",
       "    </tr>\n",
       "  </thead>\n",
       "  <tbody>\n",
       "    <tr>\n",
       "      <th>0</th>\n",
       "      <td>audio.ogg</td>\n",
       "      <td>1</td>\n",
       "      <td>Longest_word_in_English</td>\n",
       "    </tr>\n",
       "    <tr>\n",
       "      <th>1</th>\n",
       "      <td>audio2.ogg</td>\n",
       "      <td>1</td>\n",
       "      <td>Equal_Protection_Clause</td>\n",
       "    </tr>\n",
       "    <tr>\n",
       "      <th>2</th>\n",
       "      <td>audio.ogg</td>\n",
       "      <td>1</td>\n",
       "      <td>Radha</td>\n",
       "    </tr>\n",
       "    <tr>\n",
       "      <th>3</th>\n",
       "      <td>audio.ogg</td>\n",
       "      <td>1</td>\n",
       "      <td>Thalassery</td>\n",
       "    </tr>\n",
       "    <tr>\n",
       "      <th>4</th>\n",
       "      <td>audio.ogg</td>\n",
       "      <td>1</td>\n",
       "      <td>Lev_Landau</td>\n",
       "    </tr>\n",
       "    <tr>\n",
       "      <th>...</th>\n",
       "      <td>...</td>\n",
       "      <td>...</td>\n",
       "      <td>...</td>\n",
       "    </tr>\n",
       "    <tr>\n",
       "      <th>2474</th>\n",
       "      <td>audio1.ogg</td>\n",
       "      <td>0</td>\n",
       "      <td>Waschb%c3%a4r</td>\n",
       "    </tr>\n",
       "    <tr>\n",
       "      <th>2475</th>\n",
       "      <td>audio1.ogg</td>\n",
       "      <td>0</td>\n",
       "      <td>Augsburg</td>\n",
       "    </tr>\n",
       "    <tr>\n",
       "      <th>2476</th>\n",
       "      <td>audio1.ogg</td>\n",
       "      <td>0</td>\n",
       "      <td>Tijuana_No!</td>\n",
       "    </tr>\n",
       "    <tr>\n",
       "      <th>2477</th>\n",
       "      <td>audio1.ogg</td>\n",
       "      <td>0</td>\n",
       "      <td>Microsoft_Windows_NT_4.0</td>\n",
       "    </tr>\n",
       "    <tr>\n",
       "      <th>2478</th>\n",
       "      <td>audio1.ogg</td>\n",
       "      <td>0</td>\n",
       "      <td>Ostfriesland</td>\n",
       "    </tr>\n",
       "  </tbody>\n",
       "</table>\n",
       "<p>2479 rows × 3 columns</p>\n",
       "</div>"
      ],
      "text/plain": [
       "        Filename  Language                     Title\n",
       "0      audio.ogg         1   Longest_word_in_English\n",
       "1     audio2.ogg         1   Equal_Protection_Clause\n",
       "2      audio.ogg         1                     Radha\n",
       "3      audio.ogg         1                Thalassery\n",
       "4      audio.ogg         1                Lev_Landau\n",
       "...          ...       ...                       ...\n",
       "2474  audio1.ogg         0             Waschb%c3%a4r\n",
       "2475  audio1.ogg         0                  Augsburg\n",
       "2476  audio1.ogg         0               Tijuana_No!\n",
       "2477  audio1.ogg         0  Microsoft_Windows_NT_4.0\n",
       "2478  audio1.ogg         0              Ostfriesland\n",
       "\n",
       "[2479 rows x 3 columns]"
      ]
     },
     "execution_count": 22,
     "metadata": {},
     "output_type": "execute_result"
    }
   ],
   "source": [
    "try:\n",
    "    file_df.drop('index',axis=1, inplace=True)\n",
    "except:\n",
    "    pass\n",
    "\n",
    "file_df.reset_index(inplace=True)\n",
    "file_df.drop('index', axis=1, inplace=True)\n",
    "\n",
    "file_df"
   ]
  },
  {
   "cell_type": "markdown",
   "metadata": {},
   "source": [
    "### Looks Good!:\n",
    "\n",
    "Everything looks good! Let's go ahead and save the file so I can reference it in the next notebook!"
   ]
  },
  {
   "cell_type": "code",
   "execution_count": 23,
   "metadata": {},
   "outputs": [],
   "source": [
    "file_df.to_csv('./data/file_dictionary.csv', index=False)"
   ]
  }
 ],
 "metadata": {
  "kernelspec": {
   "display_name": "Python 3",
   "language": "python",
   "name": "python3"
  },
  "language_info": {
   "codemirror_mode": {
    "name": "ipython",
    "version": 3
   },
   "file_extension": ".py",
   "mimetype": "text/x-python",
   "name": "python",
   "nbconvert_exporter": "python",
   "pygments_lexer": "ipython3",
   "version": "3.7.6"
  }
 },
 "nbformat": 4,
 "nbformat_minor": 4
}
