{
 "cells": [
  {
   "cell_type": "code",
   "execution_count": 1,
   "metadata": {},
   "outputs": [],
   "source": [
    "import pandas as pd\n",
    "import numpy as np\n",
    "import shutil as sh\n",
    "import matplotlib.pyplot as plt\n",
    "\n",
    "from tensorflow.keras.layers import Input, Dense, Conv2D, Dropout, Flatten, MaxPooling2D\n",
    "from tensorflow.keras.models import Model\n",
    "from keras_preprocessing.image import ImageDataGenerator\n",
    "\n",
    "import tensorflow.keras as keras\n",
    "import tensorflow as tf\n",
    "\n",
    "\n",
    "# These lines below are needed due to versioning issues with my Ubuntu system\n",
    "\n",
    "\n",
    "config = tf.compat.v1.ConfigProto()\n",
    "config.gpu_options.allow_growth = True\n",
    "sess = tf.compat.v1.Session(config=config)"
   ]
  },
  {
   "cell_type": "markdown",
   "metadata": {},
   "source": [
    "### Versions and Packages:\n",
    "\n",
    "I am using;\n",
    "i7-9750H CPU\n",
    "RTX2060mobile GPU\n",
    "Lubuntu (LXQt 0.14.1 built on Ubuntu 19.10)"
   ]
  },
  {
   "cell_type": "code",
   "execution_count": 18,
   "metadata": {},
   "outputs": [
    {
     "name": "stdout",
     "output_type": "stream",
     "text": [
      "# packages in environment at /home/houston/anaconda3:\n",
      "#\n",
      "# Name                    Version                   Build  Channel\n",
      "cudnn                     7.6.5                cuda10.1_0  \n",
      "# packages in environment at /home/houston/anaconda3:\n",
      "#\n",
      "# Name                    Version                   Build  Channel\n",
      "cudatoolkit               10.1.243             h6bb024c_0  \n",
      "# packages in environment at /home/houston/anaconda3:\n",
      "#\n",
      "# Name                    Version                   Build  Channel\n",
      "tensorflow                2.1.0           gpu_py37h7a4bb67_0  \n",
      "tensorflow-base           2.1.0           gpu_py37h6c5654b_0  \n",
      "tensorflow-estimator      2.1.0              pyhd54b08b_0  \n",
      "tensorflow-gpu            2.1.0                    pypi_0    pypi\n"
     ]
    }
   ],
   "source": [
    "! conda list cudnn && conda list cudatoolkit && conda list tensorflow"
   ]
  },
  {
   "cell_type": "markdown",
   "metadata": {},
   "source": [
    "### Read in Data:\n",
    "\n",
    "First I'm going to read in my DataFrame containing my data.\n",
    "\n",
    "And convert the rows into the format I will need to feed my model."
   ]
  },
  {
   "cell_type": "code",
   "execution_count": 2,
   "metadata": {},
   "outputs": [],
   "source": [
    "data_raw = pd.read_csv('./data/feed_dict.csv')"
   ]
  },
  {
   "cell_type": "code",
   "execution_count": 3,
   "metadata": {},
   "outputs": [],
   "source": [
    "data = data_raw.sample(frac=1, random_state=42)"
   ]
  },
  {
   "cell_type": "code",
   "execution_count": 4,
   "metadata": {},
   "outputs": [],
   "source": [
    "data['Language'] = [int(i) for i in data['Language']]"
   ]
  },
  {
   "cell_type": "code",
   "execution_count": 5,
   "metadata": {},
   "outputs": [],
   "source": [
    "data['Language'] = [str(i) for i in data['Language']]"
   ]
  },
  {
   "cell_type": "code",
   "execution_count": 6,
   "metadata": {},
   "outputs": [
    {
     "data": {
      "text/html": [
       "<div>\n",
       "<style scoped>\n",
       "    .dataframe tbody tr th:only-of-type {\n",
       "        vertical-align: middle;\n",
       "    }\n",
       "\n",
       "    .dataframe tbody tr th {\n",
       "        vertical-align: top;\n",
       "    }\n",
       "\n",
       "    .dataframe thead th {\n",
       "        text-align: right;\n",
       "    }\n",
       "</style>\n",
       "<table border=\"1\" class=\"dataframe\">\n",
       "  <thead>\n",
       "    <tr style=\"text-align: right;\">\n",
       "      <th></th>\n",
       "      <th>Files</th>\n",
       "      <th>Names</th>\n",
       "      <th>Language</th>\n",
       "      <th>FilePath</th>\n",
       "    </tr>\n",
       "  </thead>\n",
       "  <tbody>\n",
       "    <tr>\n",
       "      <th>33331</th>\n",
       "      <td>0_105-120_audio_to_img.jpg</td>\n",
       "      <td>J._Michael_Straczynski</td>\n",
       "      <td>0</td>\n",
       "      <td>./data/audio_images/German/german/J._Michael_S...</td>\n",
       "    </tr>\n",
       "    <tr>\n",
       "      <th>6915</th>\n",
       "      <td>0_270-285_audio_to_img.jpg</td>\n",
       "      <td>Shannon_Rutherford</td>\n",
       "      <td>1</td>\n",
       "      <td>./data/audio_images/English/english/Shannon_Ru...</td>\n",
       "    </tr>\n",
       "    <tr>\n",
       "      <th>1503</th>\n",
       "      <td>0_165-180_audio_to_img.jpg</td>\n",
       "      <td>Tommy_Wiseau</td>\n",
       "      <td>1</td>\n",
       "      <td>./data/audio_images/English/english/Tommy_Wise...</td>\n",
       "    </tr>\n",
       "    <tr>\n",
       "      <th>15241</th>\n",
       "      <td>0_0-15_audio_to_img.jpg</td>\n",
       "      <td>Saltine_cracker_challenge</td>\n",
       "      <td>1</td>\n",
       "      <td>./data/audio_images/English/english/Saltine_cr...</td>\n",
       "    </tr>\n",
       "    <tr>\n",
       "      <th>35306</th>\n",
       "      <td>0_240-255_audio_to_img.jpg</td>\n",
       "      <td>Hardware</td>\n",
       "      <td>0</td>\n",
       "      <td>./data/audio_images/German/german/Hardware/0_2...</td>\n",
       "    </tr>\n",
       "    <tr>\n",
       "      <th>...</th>\n",
       "      <td>...</td>\n",
       "      <td>...</td>\n",
       "      <td>...</td>\n",
       "      <td>...</td>\n",
       "    </tr>\n",
       "    <tr>\n",
       "      <th>6265</th>\n",
       "      <td>0_225-240_audio_to_img.jpg</td>\n",
       "      <td>Myst_III%3a_Exile</td>\n",
       "      <td>1</td>\n",
       "      <td>./data/audio_images/English/english/Myst_III%3...</td>\n",
       "    </tr>\n",
       "    <tr>\n",
       "      <th>11284</th>\n",
       "      <td>1_60-75_audio_to_img.jpg</td>\n",
       "      <td>Manchester</td>\n",
       "      <td>1</td>\n",
       "      <td>./data/audio_images/English/english/Manchester...</td>\n",
       "    </tr>\n",
       "    <tr>\n",
       "      <th>38158</th>\n",
       "      <td>0_255-270_audio_to_img.jpg</td>\n",
       "      <td>Charles-%c3%89douard_Brown-S%c3%a9quard</td>\n",
       "      <td>0</td>\n",
       "      <td>./data/audio_images/German/german/Charles-%c3%...</td>\n",
       "    </tr>\n",
       "    <tr>\n",
       "      <th>860</th>\n",
       "      <td>0_285-300_audio_to_img.jpg</td>\n",
       "      <td>Octavia_E._Butler</td>\n",
       "      <td>1</td>\n",
       "      <td>./data/audio_images/English/english/Octavia_E....</td>\n",
       "    </tr>\n",
       "    <tr>\n",
       "      <th>15795</th>\n",
       "      <td>0_135-150_audio_to_img.jpg</td>\n",
       "      <td>Yao_Ming</td>\n",
       "      <td>1</td>\n",
       "      <td>./data/audio_images/English/english/Yao_Ming/0...</td>\n",
       "    </tr>\n",
       "  </tbody>\n",
       "</table>\n",
       "<p>43439 rows × 4 columns</p>\n",
       "</div>"
      ],
      "text/plain": [
       "                            Files                                    Names  \\\n",
       "33331  0_105-120_audio_to_img.jpg                   J._Michael_Straczynski   \n",
       "6915   0_270-285_audio_to_img.jpg                       Shannon_Rutherford   \n",
       "1503   0_165-180_audio_to_img.jpg                             Tommy_Wiseau   \n",
       "15241     0_0-15_audio_to_img.jpg                Saltine_cracker_challenge   \n",
       "35306  0_240-255_audio_to_img.jpg                                 Hardware   \n",
       "...                           ...                                      ...   \n",
       "6265   0_225-240_audio_to_img.jpg                        Myst_III%3a_Exile   \n",
       "11284    1_60-75_audio_to_img.jpg                               Manchester   \n",
       "38158  0_255-270_audio_to_img.jpg  Charles-%c3%89douard_Brown-S%c3%a9quard   \n",
       "860    0_285-300_audio_to_img.jpg                        Octavia_E._Butler   \n",
       "15795  0_135-150_audio_to_img.jpg                                 Yao_Ming   \n",
       "\n",
       "      Language                                           FilePath  \n",
       "33331        0  ./data/audio_images/German/german/J._Michael_S...  \n",
       "6915         1  ./data/audio_images/English/english/Shannon_Ru...  \n",
       "1503         1  ./data/audio_images/English/english/Tommy_Wise...  \n",
       "15241        1  ./data/audio_images/English/english/Saltine_cr...  \n",
       "35306        0  ./data/audio_images/German/german/Hardware/0_2...  \n",
       "...        ...                                                ...  \n",
       "6265         1  ./data/audio_images/English/english/Myst_III%3...  \n",
       "11284        1  ./data/audio_images/English/english/Manchester...  \n",
       "38158        0  ./data/audio_images/German/german/Charles-%c3%...  \n",
       "860          1  ./data/audio_images/English/english/Octavia_E....  \n",
       "15795        1  ./data/audio_images/English/english/Yao_Ming/0...  \n",
       "\n",
       "[43439 rows x 4 columns]"
      ]
     },
     "execution_count": 6,
     "metadata": {},
     "output_type": "execute_result"
    }
   ],
   "source": [
    "data"
   ]
  },
  {
   "cell_type": "markdown",
   "metadata": {},
   "source": [
    "### Check Labels:\n",
    "\n",
    "Check the distribution of my labels by running value counts on the Language column"
   ]
  },
  {
   "cell_type": "code",
   "execution_count": 7,
   "metadata": {},
   "outputs": [
    {
     "data": {
      "text/plain": [
       "1    23232\n",
       "0    20207\n",
       "Name: Language, dtype: int64"
      ]
     },
     "execution_count": 7,
     "metadata": {},
     "output_type": "execute_result"
    }
   ],
   "source": [
    "data['Language'].value_counts()"
   ]
  },
  {
   "cell_type": "markdown",
   "metadata": {},
   "source": [
    "### Check values:\n",
    "\n",
    "Next I am verifying that each path is unique and that the count for class labels is correct"
   ]
  },
  {
   "cell_type": "code",
   "execution_count": 8,
   "metadata": {},
   "outputs": [
    {
     "data": {
      "text/plain": [
       "43439"
      ]
     },
     "execution_count": 8,
     "metadata": {},
     "output_type": "execute_result"
    }
   ],
   "source": [
    "len(set(data['FilePath']))"
   ]
  },
  {
   "cell_type": "code",
   "execution_count": 9,
   "metadata": {},
   "outputs": [
    {
     "data": {
      "text/plain": [
       "2"
      ]
     },
     "execution_count": 9,
     "metadata": {},
     "output_type": "execute_result"
    }
   ],
   "source": [
    "len(set(data['Language']))"
   ]
  },
  {
   "cell_type": "markdown",
   "metadata": {},
   "source": [
    "### Create Train, Test, and Val sets:\n",
    "\n",
    "I'm reseting the index since the file I read in was jumbled. \n",
    "\n",
    "Then I'm using the index to split the shuffled DataFrame into different segments in order to build generator objects."
   ]
  },
  {
   "cell_type": "code",
   "execution_count": 10,
   "metadata": {},
   "outputs": [],
   "source": [
    "data.reset_index(inplace=True)"
   ]
  },
  {
   "cell_type": "code",
   "execution_count": 11,
   "metadata": {},
   "outputs": [],
   "source": [
    "train_data = data.loc[:38438, :]\n",
    "val_data = data.loc[38438:40938, :]\n",
    "test_data = data.loc[40938:43438, :]"
   ]
  },
  {
   "cell_type": "markdown",
   "metadata": {},
   "source": [
    "Now I create a generator that rescales the 256 color densities between 0 and 1. And create a generator for each of my splits.\n",
    "\n",
    "I have to pass binary here since I am only predicting two classes and there is no need to shuffle since I already shuffled. (This will make it easier to check errors if necessary)"
   ]
  },
  {
   "cell_type": "code",
   "execution_count": null,
   "metadata": {},
   "outputs": [],
   "source": [
    "datagen = ImageDataGenerator(rescale=1./255)"
   ]
  },
  {
   "cell_type": "code",
   "execution_count": 13,
   "metadata": {},
   "outputs": [
    {
     "name": "stdout",
     "output_type": "stream",
     "text": [
      "Found 38435 validated image filenames belonging to 2 classes.\n",
      "Found 2501 validated image filenames belonging to 2 classes.\n",
      "Found 2501 validated image filenames belonging to 2 classes.\n"
     ]
    },
    {
     "name": "stderr",
     "output_type": "stream",
     "text": [
      "/home/houston/anaconda3/lib/python3.7/site-packages/keras_preprocessing/image/dataframe_iterator.py:273: UserWarning: Found 4 invalid image filename(s) in x_col=\"FilePath\". These filename(s) will be ignored.\n",
      "  .format(n_invalid, x_col)\n"
     ]
    }
   ],
   "source": [
    "train_gen = datagen.flow_from_dataframe(dataframe=train_data,\n",
    "                                        x_col='FilePath',\n",
    "                                        y_col='Language',\n",
    "                                        batch_size= 64,\n",
    "                                        shuffle= False,\n",
    "                                        class_mode='binary',\n",
    "                                        target_size=(128, 128))\n",
    "\n",
    "test_gen = datagen.flow_from_dataframe(dataframe=test_data,\n",
    "                                       x_col='FilePath',\n",
    "                                       y_col='Language',\n",
    "                                       batch_size= 64,\n",
    "                                       shuffle= False,\n",
    "                                       class_mode='binary',\n",
    "                                       target_size=(128, 128))\n",
    "\n",
    "val_gen = datagen.flow_from_dataframe(dataframe=val_data,\n",
    "                                      x_col='FilePath',\n",
    "                                      y_col='Language',\n",
    "                                      batch_size= 64,\n",
    "                                      shuffle= False,\n",
    "                                      class_mode='binary',\n",
    "                                      target_size=(128, 128))"
   ]
  },
  {
   "cell_type": "markdown",
   "metadata": {},
   "source": [
    "## Model:\n",
    "\n",
    "#### The fun part!!\n",
    "\n",
    "Now that the data is fully prepped to go into my model I can finally build the model.\n",
    "\n",
    "I'm going to build a 2D convolutional neural network to handle this problem. \n",
    "\n",
    "I build my convolutions by following an equation to make sure each layer adds up evenly. (Inputs - Kernel + 2 * Padding) / Strides + 1\n",
    "\n",
    "I want to make sure that each layer works without wasting any of the edge data and that I can feed them evenly into the next layer.\n",
    "\n",
    "I implement Dropout on the convolutions to ensure that each filter is picking up useful information. \n",
    "\n",
    "After convolving I condense the values down using a Fully connected Neural Network.\n",
    "\n",
    "\n",
    "Since there are only 2 classes here I have sigmoid output layer. If I were to transfer learn this model into a multi-language detection model I would simply replace this with a soft max and retrain the fully connected portion."
   ]
  },
  {
   "cell_type": "code",
   "execution_count": 14,
   "metadata": {},
   "outputs": [],
   "source": [
    "inputs = Input(shape= (128, 128, 3))  #   [(I−K+2P)/S]+1\n",
    "\n",
    "X = Conv2D(filters=32, kernel_size=(10, 10), strides=(2, 2), activation='relu')(inputs)\n",
    "X = MaxPooling2D()(X)\n",
    "\n",
    "X = Conv2D(filters=64, kernel_size=(3, 3), activation='relu')(X)\n",
    "X = MaxPooling2D()(X)\n",
    "X = Dropout(0.5)(X)\n",
    "\n",
    "X = Conv2D(filters=128, kernel_size=(4, 4), strides= (2, 2), activation='relu')(X)\n",
    "X = MaxPooling2D()(X)\n",
    "X = Dropout(0.5)(X)\n",
    "\n",
    "X = Conv2D(filters=256, kernel_size=(3, 3), activation='relu')(X)\n",
    "X = Dropout(0.5)(X)\n",
    "\n",
    "X = Flatten()(X)\n",
    "\n",
    "X = Dense(256, activation='relu')(X)\n",
    "\n",
    "X = Dense(128, activation='relu')(X)\n",
    "\n",
    "X = Dense(64, activation='relu')(X)\n",
    "\n",
    "outputs = Dense(1, activation='sigmoid')(X)\n",
    "\n",
    "model = Model(inputs= inputs, outputs=outputs)"
   ]
  },
  {
   "cell_type": "code",
   "execution_count": 15,
   "metadata": {},
   "outputs": [],
   "source": [
    "model.compile(loss='binary_crossentropy',\n",
    "                  optimizer='adam',\n",
    "                  metrics=['accuracy'])"
   ]
  },
  {
   "cell_type": "code",
   "execution_count": 16,
   "metadata": {},
   "outputs": [
    {
     "name": "stdout",
     "output_type": "stream",
     "text": [
      "Model: \"model\"\n",
      "_________________________________________________________________\n",
      "Layer (type)                 Output Shape              Param #   \n",
      "=================================================================\n",
      "input_1 (InputLayer)         [(None, 128, 128, 3)]     0         \n",
      "_________________________________________________________________\n",
      "conv2d (Conv2D)              (None, 60, 60, 32)        9632      \n",
      "_________________________________________________________________\n",
      "max_pooling2d (MaxPooling2D) (None, 30, 30, 32)        0         \n",
      "_________________________________________________________________\n",
      "conv2d_1 (Conv2D)            (None, 28, 28, 64)        18496     \n",
      "_________________________________________________________________\n",
      "max_pooling2d_1 (MaxPooling2 (None, 14, 14, 64)        0         \n",
      "_________________________________________________________________\n",
      "dropout (Dropout)            (None, 14, 14, 64)        0         \n",
      "_________________________________________________________________\n",
      "conv2d_2 (Conv2D)            (None, 6, 6, 128)         131200    \n",
      "_________________________________________________________________\n",
      "max_pooling2d_2 (MaxPooling2 (None, 3, 3, 128)         0         \n",
      "_________________________________________________________________\n",
      "dropout_1 (Dropout)          (None, 3, 3, 128)         0         \n",
      "_________________________________________________________________\n",
      "conv2d_3 (Conv2D)            (None, 1, 1, 256)         295168    \n",
      "_________________________________________________________________\n",
      "dropout_2 (Dropout)          (None, 1, 1, 256)         0         \n",
      "_________________________________________________________________\n",
      "flatten (Flatten)            (None, 256)               0         \n",
      "_________________________________________________________________\n",
      "dense (Dense)                (None, 256)               65792     \n",
      "_________________________________________________________________\n",
      "dense_1 (Dense)              (None, 128)               32896     \n",
      "_________________________________________________________________\n",
      "dense_2 (Dense)              (None, 64)                8256      \n",
      "_________________________________________________________________\n",
      "dense_3 (Dense)              (None, 1)                 65        \n",
      "=================================================================\n",
      "Total params: 561,505\n",
      "Trainable params: 561,505\n",
      "Non-trainable params: 0\n",
      "_________________________________________________________________\n"
     ]
    }
   ],
   "source": [
    "model.summary()"
   ]
  },
  {
   "cell_type": "code",
   "execution_count": 17,
   "metadata": {},
   "outputs": [
    {
     "name": "stdout",
     "output_type": "stream",
     "text": [
      "WARNING:tensorflow:sample_weight modes were coerced from\n",
      "  ...\n",
      "    to  \n",
      "  ['...']\n",
      "WARNING:tensorflow:sample_weight modes were coerced from\n",
      "  ...\n",
      "    to  \n",
      "  ['...']\n",
      "Train for 601 steps, validate for 40 steps\n",
      "Epoch 1/100\n",
      "601/601 [==============================] - 102s 170ms/step - loss: 0.5772 - accuracy: 0.6856 - val_loss: 0.4421 - val_accuracy: 0.8009\n",
      "Epoch 2/100\n",
      "601/601 [==============================] - 101s 169ms/step - loss: 0.4348 - accuracy: 0.8035 - val_loss: 0.4448 - val_accuracy: 0.8101\n",
      "Epoch 3/100\n",
      "601/601 [==============================] - 98s 163ms/step - loss: 0.3757 - accuracy: 0.8351 - val_loss: 0.3305 - val_accuracy: 0.8669\n",
      "Epoch 4/100\n",
      "601/601 [==============================] - 100s 166ms/step - loss: 0.3424 - accuracy: 0.8534 - val_loss: 0.3203 - val_accuracy: 0.8709\n",
      "Epoch 5/100\n",
      "601/601 [==============================] - 101s 168ms/step - loss: 0.3136 - accuracy: 0.8668 - val_loss: 0.3077 - val_accuracy: 0.8764\n",
      "Epoch 6/100\n",
      "601/601 [==============================] - 101s 168ms/step - loss: 0.2873 - accuracy: 0.8806 - val_loss: 0.2712 - val_accuracy: 0.8900\n",
      "Epoch 7/100\n",
      "601/601 [==============================] - 101s 168ms/step - loss: 0.2757 - accuracy: 0.8853 - val_loss: 0.2311 - val_accuracy: 0.9120\n",
      "Epoch 8/100\n",
      "601/601 [==============================] - 100s 167ms/step - loss: 0.2549 - accuracy: 0.8935 - val_loss: 0.2652 - val_accuracy: 0.8900\n",
      "Epoch 9/100\n",
      "601/601 [==============================] - 100s 167ms/step - loss: 0.2482 - accuracy: 0.8963 - val_loss: 0.2068 - val_accuracy: 0.9156\n",
      "Epoch 10/100\n",
      "601/601 [==============================] - 101s 168ms/step - loss: 0.2327 - accuracy: 0.9045 - val_loss: 0.1962 - val_accuracy: 0.9244\n",
      "Epoch 11/100\n",
      "601/601 [==============================] - 101s 168ms/step - loss: 0.2214 - accuracy: 0.9091 - val_loss: 0.2159 - val_accuracy: 0.9152\n",
      "Epoch 12/100\n",
      "601/601 [==============================] - 101s 168ms/step - loss: 0.2149 - accuracy: 0.9119 - val_loss: 0.1775 - val_accuracy: 0.9376\n",
      "Epoch 13/100\n",
      "601/601 [==============================] - 102s 170ms/step - loss: 0.2071 - accuracy: 0.9155 - val_loss: 0.1875 - val_accuracy: 0.9300\n",
      "Epoch 14/100\n",
      "601/601 [==============================] - 102s 169ms/step - loss: 0.1979 - accuracy: 0.9199 - val_loss: 0.1693 - val_accuracy: 0.9372\n",
      "Epoch 15/100\n",
      "601/601 [==============================] - 100s 167ms/step - loss: 0.1868 - accuracy: 0.9246 - val_loss: 0.1696 - val_accuracy: 0.9420\n",
      "Epoch 16/100\n",
      "601/601 [==============================] - 100s 167ms/step - loss: 0.1834 - accuracy: 0.9251 - val_loss: 0.1602 - val_accuracy: 0.9360\n",
      "Epoch 17/100\n",
      "601/601 [==============================] - 98s 162ms/step - loss: 0.1777 - accuracy: 0.9275 - val_loss: 0.1714 - val_accuracy: 0.9392\n",
      "Epoch 18/100\n",
      "601/601 [==============================] - 98s 163ms/step - loss: 0.1717 - accuracy: 0.9314 - val_loss: 0.1377 - val_accuracy: 0.9548\n",
      "Epoch 19/100\n",
      "601/601 [==============================] - 97s 161ms/step - loss: 0.1663 - accuracy: 0.9328 - val_loss: 0.1493 - val_accuracy: 0.9532\n",
      "Epoch 20/100\n",
      "601/601 [==============================] - 96s 160ms/step - loss: 0.1629 - accuracy: 0.9352 - val_loss: 0.1350 - val_accuracy: 0.9588\n",
      "Epoch 21/100\n",
      "601/601 [==============================] - 96s 159ms/step - loss: 0.1557 - accuracy: 0.9371 - val_loss: 0.1232 - val_accuracy: 0.9568\n",
      "Epoch 22/100\n",
      "601/601 [==============================] - 96s 160ms/step - loss: 0.1524 - accuracy: 0.9384 - val_loss: 0.1267 - val_accuracy: 0.9560\n",
      "Epoch 23/100\n",
      "601/601 [==============================] - 96s 160ms/step - loss: 0.1508 - accuracy: 0.9404 - val_loss: 0.1339 - val_accuracy: 0.9600\n",
      "Epoch 24/100\n",
      "601/601 [==============================] - 97s 161ms/step - loss: 0.1435 - accuracy: 0.9424 - val_loss: 0.1414 - val_accuracy: 0.9556\n",
      "Epoch 25/100\n",
      "601/601 [==============================] - 97s 161ms/step - loss: 0.1440 - accuracy: 0.9428 - val_loss: 0.1478 - val_accuracy: 0.9444\n",
      "Epoch 26/100\n",
      "601/601 [==============================] - 99s 164ms/step - loss: 0.1354 - accuracy: 0.9460 - val_loss: 0.1360 - val_accuracy: 0.9572\n",
      "Epoch 27/100\n",
      "601/601 [==============================] - 99s 164ms/step - loss: 0.1353 - accuracy: 0.9463 - val_loss: 0.1272 - val_accuracy: 0.9556\n",
      "Epoch 28/100\n",
      "601/601 [==============================] - 99s 164ms/step - loss: 0.1372 - accuracy: 0.9460 - val_loss: 0.1257 - val_accuracy: 0.9592\n",
      "Epoch 29/100\n",
      "601/601 [==============================] - 98s 164ms/step - loss: 0.1298 - accuracy: 0.9486 - val_loss: 0.1153 - val_accuracy: 0.9644\n",
      "Epoch 30/100\n",
      "601/601 [==============================] - 99s 164ms/step - loss: 0.1240 - accuracy: 0.9510 - val_loss: 0.1270 - val_accuracy: 0.9588\n",
      "Epoch 31/100\n",
      "601/601 [==============================] - 99s 164ms/step - loss: 0.1222 - accuracy: 0.9522 - val_loss: 0.1102 - val_accuracy: 0.9660\n",
      "Epoch 32/100\n",
      "601/601 [==============================] - 98s 163ms/step - loss: 0.1236 - accuracy: 0.9517 - val_loss: 0.1090 - val_accuracy: 0.9648\n",
      "Epoch 33/100\n",
      "601/601 [==============================] - 99s 165ms/step - loss: 0.1231 - accuracy: 0.9516 - val_loss: 0.1061 - val_accuracy: 0.9652\n",
      "Epoch 34/100\n",
      "601/601 [==============================] - 100s 167ms/step - loss: 0.1174 - accuracy: 0.9538 - val_loss: 0.1076 - val_accuracy: 0.9628\n",
      "Epoch 35/100\n",
      "601/601 [==============================] - 103s 171ms/step - loss: 0.1173 - accuracy: 0.9545 - val_loss: 0.1030 - val_accuracy: 0.9652\n",
      "Epoch 36/100\n",
      "601/601 [==============================] - 102s 171ms/step - loss: 0.1131 - accuracy: 0.9554 - val_loss: 0.0996 - val_accuracy: 0.9688\n",
      "Epoch 37/100\n",
      "601/601 [==============================] - 102s 170ms/step - loss: 0.1115 - accuracy: 0.9560 - val_loss: 0.0851 - val_accuracy: 0.9744\n",
      "Epoch 38/100\n",
      "601/601 [==============================] - 101s 169ms/step - loss: 0.1096 - accuracy: 0.9575 - val_loss: 0.1024 - val_accuracy: 0.9688\n",
      "Epoch 39/100\n",
      "601/601 [==============================] - 102s 170ms/step - loss: 0.1078 - accuracy: 0.9577 - val_loss: 0.0907 - val_accuracy: 0.9712\n",
      "Epoch 40/100\n",
      "601/601 [==============================] - 101s 169ms/step - loss: 0.1074 - accuracy: 0.9591 - val_loss: 0.0850 - val_accuracy: 0.9712\n",
      "Epoch 41/100\n",
      "601/601 [==============================] - 102s 171ms/step - loss: 0.1050 - accuracy: 0.9589 - val_loss: 0.1124 - val_accuracy: 0.9640\n",
      "Epoch 42/100\n",
      "601/601 [==============================] - 102s 170ms/step - loss: 0.1036 - accuracy: 0.9602 - val_loss: 0.0943 - val_accuracy: 0.9660\n",
      "Epoch 43/100\n",
      "601/601 [==============================] - 102s 170ms/step - loss: 0.1014 - accuracy: 0.9612 - val_loss: 0.0855 - val_accuracy: 0.9716\n",
      "Epoch 44/100\n",
      "601/601 [==============================] - 102s 170ms/step - loss: 0.0987 - accuracy: 0.9622 - val_loss: 0.0896 - val_accuracy: 0.9752\n",
      "Epoch 45/100\n",
      "601/601 [==============================] - 102s 170ms/step - loss: 0.1011 - accuracy: 0.9608 - val_loss: 0.1284 - val_accuracy: 0.9556\n",
      "Epoch 46/100\n",
      "601/601 [==============================] - 102s 170ms/step - loss: 0.0943 - accuracy: 0.9634 - val_loss: 0.0944 - val_accuracy: 0.9696\n",
      "Epoch 47/100\n",
      "601/601 [==============================] - 102s 170ms/step - loss: 0.0963 - accuracy: 0.9643 - val_loss: 0.0918 - val_accuracy: 0.9716\n",
      "Epoch 48/100\n",
      "601/601 [==============================] - 103s 171ms/step - loss: 0.0951 - accuracy: 0.9636 - val_loss: 0.0980 - val_accuracy: 0.9672\n",
      "Epoch 49/100\n",
      "601/601 [==============================] - 100s 166ms/step - loss: 0.0931 - accuracy: 0.9643 - val_loss: 0.1058 - val_accuracy: 0.9620\n",
      "Epoch 50/100\n",
      "601/601 [==============================] - 98s 162ms/step - loss: 0.0924 - accuracy: 0.9643 - val_loss: 0.0900 - val_accuracy: 0.9752\n",
      "Epoch 51/100\n",
      "601/601 [==============================] - 98s 163ms/step - loss: 0.0923 - accuracy: 0.9639 - val_loss: 0.0883 - val_accuracy: 0.9680\n",
      "Epoch 52/100\n",
      "601/601 [==============================] - 97s 161ms/step - loss: 0.0888 - accuracy: 0.9665 - val_loss: 0.0783 - val_accuracy: 0.9720\n",
      "Epoch 53/100\n",
      "601/601 [==============================] - 98s 163ms/step - loss: 0.0906 - accuracy: 0.9659 - val_loss: 0.0830 - val_accuracy: 0.9744\n",
      "Epoch 54/100\n",
      "601/601 [==============================] - 98s 163ms/step - loss: 0.0851 - accuracy: 0.9677 - val_loss: 0.0782 - val_accuracy: 0.9788\n",
      "Epoch 55/100\n",
      "601/601 [==============================] - 98s 163ms/step - loss: 0.0869 - accuracy: 0.9670 - val_loss: 0.0687 - val_accuracy: 0.9780\n",
      "Epoch 56/100\n",
      "601/601 [==============================] - 99s 166ms/step - loss: 0.0880 - accuracy: 0.9670 - val_loss: 0.0693 - val_accuracy: 0.9808\n",
      "Epoch 57/100\n",
      "601/601 [==============================] - 98s 163ms/step - loss: 0.0870 - accuracy: 0.9664 - val_loss: 0.0791 - val_accuracy: 0.9772\n",
      "Epoch 58/100\n",
      "601/601 [==============================] - 99s 165ms/step - loss: 0.0836 - accuracy: 0.9682 - val_loss: 0.0733 - val_accuracy: 0.9780\n",
      "Epoch 59/100\n",
      "601/601 [==============================] - 98s 164ms/step - loss: 0.0809 - accuracy: 0.9686 - val_loss: 0.0765 - val_accuracy: 0.9784\n",
      "Epoch 60/100\n",
      "601/601 [==============================] - 98s 162ms/step - loss: 0.0816 - accuracy: 0.9694 - val_loss: 0.0759 - val_accuracy: 0.9784\n",
      "Epoch 61/100\n",
      "601/601 [==============================] - 100s 166ms/step - loss: 0.0805 - accuracy: 0.9687 - val_loss: 0.0820 - val_accuracy: 0.9748\n",
      "Epoch 62/100\n",
      "601/601 [==============================] - 98s 164ms/step - loss: 0.0811 - accuracy: 0.9697 - val_loss: 0.0623 - val_accuracy: 0.9812\n",
      "Epoch 63/100\n",
      "601/601 [==============================] - 100s 167ms/step - loss: 0.0768 - accuracy: 0.9719 - val_loss: 0.0717 - val_accuracy: 0.9824\n",
      "Epoch 64/100\n",
      "601/601 [==============================] - 99s 165ms/step - loss: 0.0761 - accuracy: 0.9713 - val_loss: 0.0753 - val_accuracy: 0.9760\n",
      "Epoch 65/100\n",
      "601/601 [==============================] - 99s 166ms/step - loss: 0.0772 - accuracy: 0.9705 - val_loss: 0.0706 - val_accuracy: 0.9824\n",
      "Epoch 66/100\n",
      "601/601 [==============================] - 100s 166ms/step - loss: 0.0824 - accuracy: 0.9688 - val_loss: 0.0707 - val_accuracy: 0.9820\n",
      "Epoch 67/100\n",
      "601/601 [==============================] - 99s 165ms/step - loss: 0.0718 - accuracy: 0.9729 - val_loss: 0.0808 - val_accuracy: 0.9756\n",
      "Epoch 68/100\n",
      "601/601 [==============================] - 98s 163ms/step - loss: 0.0753 - accuracy: 0.9713 - val_loss: 0.0622 - val_accuracy: 0.9836\n",
      "Epoch 69/100\n",
      "601/601 [==============================] - 97s 161ms/step - loss: 0.0743 - accuracy: 0.9714 - val_loss: 0.0781 - val_accuracy: 0.9780\n",
      "Epoch 70/100\n",
      "601/601 [==============================] - 98s 163ms/step - loss: 0.0746 - accuracy: 0.9716 - val_loss: 0.0894 - val_accuracy: 0.9708\n",
      "Epoch 71/100\n",
      "601/601 [==============================] - 98s 163ms/step - loss: 0.0744 - accuracy: 0.9715 - val_loss: 0.0668 - val_accuracy: 0.9816\n",
      "Epoch 72/100\n",
      "601/601 [==============================] - 100s 166ms/step - loss: 0.0759 - accuracy: 0.9715 - val_loss: 0.0696 - val_accuracy: 0.9796\n",
      "Epoch 73/100\n",
      "601/601 [==============================] - 100s 167ms/step - loss: 0.0680 - accuracy: 0.9744 - val_loss: 0.0748 - val_accuracy: 0.9796\n",
      "Epoch 74/100\n",
      "601/601 [==============================] - 100s 166ms/step - loss: 0.0690 - accuracy: 0.9742 - val_loss: 0.0576 - val_accuracy: 0.9868\n",
      "Epoch 75/100\n",
      "601/601 [==============================] - 100s 167ms/step - loss: 0.0668 - accuracy: 0.9750 - val_loss: 0.0701 - val_accuracy: 0.9796\n",
      "Epoch 76/100\n",
      "601/601 [==============================] - 99s 165ms/step - loss: 0.0681 - accuracy: 0.9746 - val_loss: 0.0604 - val_accuracy: 0.9840\n",
      "Epoch 77/100\n",
      "601/601 [==============================] - 108s 180ms/step - loss: 0.0687 - accuracy: 0.9746 - val_loss: 0.0725 - val_accuracy: 0.9800\n",
      "Epoch 78/100\n",
      "601/601 [==============================] - 106s 176ms/step - loss: 0.0712 - accuracy: 0.9730 - val_loss: 0.0694 - val_accuracy: 0.9800\n",
      "Epoch 79/100\n",
      "601/601 [==============================] - 105s 174ms/step - loss: 0.0723 - accuracy: 0.9739 - val_loss: 0.0732 - val_accuracy: 0.9792\n",
      "Epoch 80/100\n",
      "601/601 [==============================] - 99s 165ms/step - loss: 0.0669 - accuracy: 0.9754 - val_loss: 0.0739 - val_accuracy: 0.9768\n",
      "Epoch 81/100\n",
      "601/601 [==============================] - 99s 164ms/step - loss: 0.0635 - accuracy: 0.9754 - val_loss: 0.0635 - val_accuracy: 0.9840\n",
      "Epoch 82/100\n",
      "601/601 [==============================] - 98s 163ms/step - loss: 0.0651 - accuracy: 0.9756 - val_loss: 0.0640 - val_accuracy: 0.9848\n",
      "Epoch 83/100\n",
      "601/601 [==============================] - 98s 164ms/step - loss: 0.0677 - accuracy: 0.9749 - val_loss: 0.0601 - val_accuracy: 0.9824\n",
      "Epoch 84/100\n",
      "601/601 [==============================] - 98s 163ms/step - loss: 0.0657 - accuracy: 0.9757 - val_loss: 0.0675 - val_accuracy: 0.9808\n",
      "Epoch 85/100\n",
      "601/601 [==============================] - 98s 163ms/step - loss: 0.0657 - accuracy: 0.9760 - val_loss: 0.0599 - val_accuracy: 0.9848\n",
      "Epoch 86/100\n",
      "601/601 [==============================] - 99s 164ms/step - loss: 0.0637 - accuracy: 0.9761 - val_loss: 0.0696 - val_accuracy: 0.9840\n",
      "Epoch 87/100\n",
      "601/601 [==============================] - 106s 177ms/step - loss: 0.0644 - accuracy: 0.9768 - val_loss: 0.0632 - val_accuracy: 0.9808\n",
      "Epoch 88/100\n",
      "601/601 [==============================] - 112s 186ms/step - loss: 0.0640 - accuracy: 0.9765 - val_loss: 0.0630 - val_accuracy: 0.9836\n",
      "Epoch 89/100\n",
      "601/601 [==============================] - 99s 165ms/step - loss: 0.0651 - accuracy: 0.9763 - val_loss: 0.0596 - val_accuracy: 0.9844\n",
      "Epoch 90/100\n",
      "601/601 [==============================] - 99s 165ms/step - loss: 0.0641 - accuracy: 0.9761 - val_loss: 0.0766 - val_accuracy: 0.9776\n",
      "Epoch 91/100\n",
      "601/601 [==============================] - 109s 181ms/step - loss: 0.0628 - accuracy: 0.9762 - val_loss: 0.0665 - val_accuracy: 0.9804\n",
      "Epoch 92/100\n",
      "601/601 [==============================] - 111s 184ms/step - loss: 0.0620 - accuracy: 0.9773 - val_loss: 0.0760 - val_accuracy: 0.9776\n",
      "Epoch 93/100\n",
      "601/601 [==============================] - 100s 167ms/step - loss: 0.0576 - accuracy: 0.9775 - val_loss: 0.0761 - val_accuracy: 0.9784\n",
      "Epoch 94/100\n",
      "601/601 [==============================] - 105s 174ms/step - loss: 0.0591 - accuracy: 0.9781 - val_loss: 0.0863 - val_accuracy: 0.9764\n",
      "Epoch 95/100\n",
      "601/601 [==============================] - 108s 180ms/step - loss: 0.0611 - accuracy: 0.9767 - val_loss: 0.0621 - val_accuracy: 0.9828\n",
      "Epoch 96/100\n",
      "601/601 [==============================] - 101s 168ms/step - loss: 0.0570 - accuracy: 0.9792 - val_loss: 0.0704 - val_accuracy: 0.9784\n",
      "Epoch 97/100\n",
      "601/601 [==============================] - 101s 168ms/step - loss: 0.0606 - accuracy: 0.9777 - val_loss: 0.0844 - val_accuracy: 0.9776\n",
      "Epoch 98/100\n",
      "601/601 [==============================] - 102s 169ms/step - loss: 0.0594 - accuracy: 0.9777 - val_loss: 0.0613 - val_accuracy: 0.9824\n",
      "Epoch 99/100\n",
      "601/601 [==============================] - 99s 164ms/step - loss: 0.0578 - accuracy: 0.9788 - val_loss: 0.0580 - val_accuracy: 0.9836\n",
      "Epoch 100/100\n",
      "601/601 [==============================] - 98s 163ms/step - loss: 0.0575 - accuracy: 0.9786 - val_loss: 0.0650 - val_accuracy: 0.9816\n"
     ]
    }
   ],
   "source": [
    "history = model.fit(x= train_gen,\n",
    "                    validation_data=val_gen,\n",
    "                    epochs=100,\n",
    "                    verbose=1)"
   ]
  },
  {
   "cell_type": "markdown",
   "metadata": {},
   "source": [
    "### Checking scores:\n",
    "\n",
    "I've plotted the accuracy below to show how the model improved over time. "
   ]
  },
  {
   "cell_type": "code",
   "execution_count": 19,
   "metadata": {},
   "outputs": [
    {
     "data": {
      "image/png": "[encoded data removed]",
      "text/plain": [
       "<Figure size 1440x1080 with 1 Axes>"
      ]
     },
     "metadata": {
      "needs_background": "light"
     },
     "output_type": "display_data"
    }
   ],
   "source": [
    "plt.figure(figsize=(20,15))\n",
    "\n",
    "plt.plot(history.history['accuracy'], label= 'Train Accuracy', color= 'blue')\n",
    "plt.plot(history.history['val_accuracy'], label= 'Val Accuracy', color= 'blue')\n",
    "plt.legend()\n",
    "\n",
    "\n",
    "\n",
    "plt.title('Training and Validation Accuracies')\n",
    "plt.xlabel('Epoch')\n",
    "plt.ylabel('Accuracy');"
   ]
  },
  {
   "cell_type": "markdown",
   "metadata": {},
   "source": [
    "### Checking the Test set:\n",
    "\n",
    "Now that the model has been trained and evaluated I'm going to see how it performs on unseen data. \n",
    "\n",
    "Now the data we used was 15 second clips of audio and some of the speakers may have been repeated. However each image will contain different words and inflections and data for further testing is scarce."
   ]
  },
  {
   "cell_type": "code",
   "execution_count": 20,
   "metadata": {},
   "outputs": [],
   "source": [
    "preds = model.predict(test_gen)"
   ]
  },
  {
   "cell_type": "code",
   "execution_count": 21,
   "metadata": {},
   "outputs": [
    {
     "name": "stderr",
     "output_type": "stream",
     "text": [
      "/home/houston/anaconda3/lib/python3.7/site-packages/ipykernel_launcher.py:1: SettingWithCopyWarning: \n",
      "A value is trying to be set on a copy of a slice from a DataFrame.\n",
      "Try using .loc[row_indexer,col_indexer] = value instead\n",
      "\n",
      "See the caveats in the documentation: http://pandas.pydata.org/pandas-docs/stable/user_guide/indexing.html#returning-a-view-versus-a-copy\n",
      "  \"\"\"Entry point for launching an IPython kernel.\n",
      "/home/houston/anaconda3/lib/python3.7/site-packages/ipykernel_launcher.py:3: SettingWithCopyWarning: \n",
      "A value is trying to be set on a copy of a slice from a DataFrame.\n",
      "Try using .loc[row_indexer,col_indexer] = value instead\n",
      "\n",
      "See the caveats in the documentation: http://pandas.pydata.org/pandas-docs/stable/user_guide/indexing.html#returning-a-view-versus-a-copy\n",
      "  This is separate from the ipykernel package so we can avoid doing imports until\n"
     ]
    }
   ],
   "source": [
    "test_data['pred'] = np.where(preds >= 0.5, 1, 0)\n",
    "\n",
    "test_data['pred'] = [str(i) for i in test_data['pred']]"
   ]
  },
  {
   "cell_type": "code",
   "execution_count": 22,
   "metadata": {},
   "outputs": [
    {
     "data": {
      "text/plain": [
       "0.9796081567373051"
      ]
     },
     "execution_count": 22,
     "metadata": {},
     "output_type": "execute_result"
    }
   ],
   "source": [
    "len(test_data[test_data['Language'] == test_data['pred']]) / len(test_data)"
   ]
  },
  {
   "cell_type": "markdown",
   "metadata": {},
   "source": [
    "### Accuracy:\n",
    "\n",
    "We got an accuracy of 97.9% \n",
    "\n",
    "There is definitely some room for improvement here. Which would be easy to produce given more training time on a larger dataset. \n",
    "\n",
    "But, since this is phase 1 of a 3 phase project I'm going to move on to phase 2 \n",
    "\n",
    "### Saving:\n",
    "\n",
    "But first I'm going to save the model and load it to verify my save worked"
   ]
  },
  {
   "cell_type": "code",
   "execution_count": 23,
   "metadata": {},
   "outputs": [
    {
     "name": "stdout",
     "output_type": "stream",
     "text": [
      "WARNING:tensorflow:From /home/houston/anaconda3/lib/python3.7/site-packages/tensorflow_core/python/ops/resource_variable_ops.py:1786: calling BaseResourceVariable.__init__ (from tensorflow.python.ops.resource_variable_ops) with constraint is deprecated and will be removed in a future version.\n",
      "Instructions for updating:\n",
      "If using Keras pass *_constraint arguments to layers.\n",
      "INFO:tensorflow:Assets written to: saved_model/my_model/assets\n"
     ]
    }
   ],
   "source": [
    "!mkdir -p saved_model\n",
    "model.save('saved_model/my_model') "
   ]
  },
  {
   "cell_type": "code",
   "execution_count": 24,
   "metadata": {},
   "outputs": [],
   "source": [
    "test_save = tf.keras.models.load_model('saved_model/my_model')"
   ]
  },
  {
   "cell_type": "code",
   "execution_count": 27,
   "metadata": {},
   "outputs": [],
   "source": [
    "preds = test_save.predict(test_gen)"
   ]
  },
  {
   "cell_type": "code",
   "execution_count": 28,
   "metadata": {},
   "outputs": [
    {
     "name": "stderr",
     "output_type": "stream",
     "text": [
      "/home/houston/anaconda3/lib/python3.7/site-packages/ipykernel_launcher.py:1: SettingWithCopyWarning: \n",
      "A value is trying to be set on a copy of a slice from a DataFrame.\n",
      "Try using .loc[row_indexer,col_indexer] = value instead\n",
      "\n",
      "See the caveats in the documentation: http://pandas.pydata.org/pandas-docs/stable/user_guide/indexing.html#returning-a-view-versus-a-copy\n",
      "  \"\"\"Entry point for launching an IPython kernel.\n",
      "/home/houston/anaconda3/lib/python3.7/site-packages/ipykernel_launcher.py:3: SettingWithCopyWarning: \n",
      "A value is trying to be set on a copy of a slice from a DataFrame.\n",
      "Try using .loc[row_indexer,col_indexer] = value instead\n",
      "\n",
      "See the caveats in the documentation: http://pandas.pydata.org/pandas-docs/stable/user_guide/indexing.html#returning-a-view-versus-a-copy\n",
      "  This is separate from the ipykernel package so we can avoid doing imports until\n"
     ]
    }
   ],
   "source": [
    "test_data['pred'] = np.where(preds >= 0.5, 1, 0)\n",
    "\n",
    "test_data['pred'] = [str(i) for i in test_data['pred']]"
   ]
  },
  {
   "cell_type": "code",
   "execution_count": 29,
   "metadata": {},
   "outputs": [
    {
     "data": {
      "text/plain": [
       "0.9796081567373051"
      ]
     },
     "execution_count": 29,
     "metadata": {},
     "output_type": "execute_result"
    }
   ],
   "source": [
    "len(test_data[test_data['Language'] == test_data['pred']]) / len(test_data)"
   ]
  },
  {
   "cell_type": "markdown",
   "metadata": {},
   "source": [
    "### Results:\n",
    "\n",
    "We got the exact same results so it's safe to say the save worked properly!"
   ]
  }
 ],
 "metadata": {
  "kernelspec": {
   "display_name": "Python 3",
   "language": "python",
   "name": "python3"
  },
  "language_info": {
   "codemirror_mode": {
    "name": "ipython",
    "version": 3
   },
   "file_extension": ".py",
   "mimetype": "text/x-python",
   "name": "python",
   "nbconvert_exporter": "python",
   "pygments_lexer": "ipython3",
   "version": "3.7.6"
  }
 },
 "nbformat": 4,
 "nbformat_minor": 4
}
