{
 "cells": [
  {
   "cell_type": "code",
   "execution_count": null,
   "metadata": {},
   "outputs": [],
   "source": [
    "import os\n",
    "import time\n"
   ]
  },
  {
   "cell_type": "code",
   "execution_count": null,
   "metadata": {},
   "outputs": [],
   "source": [
    "for i in range(350):\n",
    "    os.system('python3 ~/Desktop/General_Assembly/CapStone/looper.py')\n",
    "    time.sleep(10)"
   ]
  },
  {
   "cell_type": "markdown",
   "metadata": {},
   "source": [
    "### Looping over looper.py\n",
    "\n",
    "I used os.system to run looper.py \n",
    "\n",
    "In looper.py I am loading the weights from a yaml file to pull the last saved index for the dataframe. I'm selecting 5 at a time so I can use my computer for other things during this process which took over 24 hours. The file then adds 5 to those values saves them back to the yaml file and runs the script seen in 1.2 for five files collecting 20 images from each for 20 different 15 second intervals.\n",
    "\n",
    "Running this consumes between 3-5GB of RAM per iteration. (At least on my PC)"
   ]
  }
 ],
 "metadata": {
  "kernelspec": {
   "display_name": "Python 3",
   "language": "python",
   "name": "python3"
  },
  "language_info": {
   "codemirror_mode": {
    "name": "ipython",
    "version": 3
   },
   "file_extension": ".py",
   "mimetype": "text/x-python",
   "name": "python",
   "nbconvert_exporter": "python",
   "pygments_lexer": "ipython3",
   "version": "3.7.6"
  }
 },
 "nbformat": 4,
 "nbformat_minor": 4
}
