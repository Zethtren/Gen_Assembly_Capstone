{
 "cells": [
  {
   "cell_type": "code",
   "execution_count": 15,
   "metadata": {},
   "outputs": [],
   "source": [
    "import pandas as pd\n",
    "import numpy as np\n",
    "import os"
   ]
  },
  {
   "cell_type": "markdown",
   "metadata": {},
   "source": [
    "### Preparing Paths to feed Images to Neural Net:\n",
    "\n",
    "Now we finally have all of the hard work done. During this process Iwas able to create 43439 unique images to feed to my neural network. This is an incredibly small dataset to train a neural net but, we'll see what kind of results we can get!\n",
    "\n",
    "In order to create an easy to read table of points to feed to the model we're first going to read in the Folder titles (Which are also the same as the title of the Wikipedia article being read)."
   ]
  },
  {
   "cell_type": "code",
   "execution_count": 16,
   "metadata": {},
   "outputs": [],
   "source": [
    "english_folders = os.listdir('./data/audio_images/English/english')\n",
    "german_folders = os.listdir('./data/audio_images/German/german')"
   ]
  },
  {
   "cell_type": "markdown",
   "metadata": {},
   "source": [
    "### English Files:\n",
    "\n",
    "I'm going to create the DataFrame with 3 labels. The image, The title it belongs to, and the language it is in.\n",
    "\n",
    "The loop below pulls all the image file names and fills out a list in order. It then generates a list of the same length with the title names. They both get added to an overall list and the over all length is saved it a length variable ```lens```"
   ]
  },
  {
   "cell_type": "code",
   "execution_count": 17,
   "metadata": {},
   "outputs": [
    {
     "data": {
      "text/plain": [
       "(23232,)"
      ]
     },
     "execution_count": 17,
     "metadata": {},
     "output_type": "execute_result"
    }
   ],
   "source": [
    "file_list = []\n",
    "names_list = []\n",
    "lens = 0\n",
    "for i in english_folders:\n",
    "    files = os.listdir(f'./data/audio_images/English/english/{i}')\n",
    "    names = [i] * len(files)\n",
    "    file_list += files\n",
    "    names_list += names\n",
    "    lens += (len(files))\n",
    "np.asarray(file_list).shape"
   ]
  },
  {
   "cell_type": "markdown",
   "metadata": {},
   "source": [
    "After we check the shapes of the two lists to make sure they are the same length. If there were any errors in the above script the lengths would be different."
   ]
  },
  {
   "cell_type": "code",
   "execution_count": 18,
   "metadata": {},
   "outputs": [
    {
     "data": {
      "text/plain": [
       "(23232,)"
      ]
     },
     "execution_count": 18,
     "metadata": {},
     "output_type": "execute_result"
    }
   ],
   "source": [
    "np.asarray(names_list).shape"
   ]
  },
  {
   "cell_type": "markdown",
   "metadata": {},
   "source": [
    "The lengths are the same which means our lists were made correctly. \n",
    "\n",
    "Now I generate a list of ones (my binary indicator for English) and we put them all in a DataFrame"
   ]
  },
  {
   "cell_type": "code",
   "execution_count": 19,
   "metadata": {},
   "outputs": [],
   "source": [
    "language = np.ones(lens)"
   ]
  },
  {
   "cell_type": "code",
   "execution_count": 20,
   "metadata": {},
   "outputs": [
    {
     "data": {
      "text/html": [
       "<div>\n",
       "<style scoped>\n",
       "    .dataframe tbody tr th:only-of-type {\n",
       "        vertical-align: middle;\n",
       "    }\n",
       "\n",
       "    .dataframe tbody tr th {\n",
       "        vertical-align: top;\n",
       "    }\n",
       "\n",
       "    .dataframe thead th {\n",
       "        text-align: right;\n",
       "    }\n",
       "</style>\n",
       "<table border=\"1\" class=\"dataframe\">\n",
       "  <thead>\n",
       "    <tr style=\"text-align: right;\">\n",
       "      <th></th>\n",
       "      <th>Files</th>\n",
       "      <th>Names</th>\n",
       "      <th>Language</th>\n",
       "    </tr>\n",
       "  </thead>\n",
       "  <tbody>\n",
       "    <tr>\n",
       "      <th>0</th>\n",
       "      <td>0_0-15_audio_to_img.jpg</td>\n",
       "      <td>Longest_word_in_English</td>\n",
       "      <td>1.0</td>\n",
       "    </tr>\n",
       "    <tr>\n",
       "      <th>1</th>\n",
       "      <td>1_105-120_audio_to_img.jpg</td>\n",
       "      <td>Equal_Protection_Clause</td>\n",
       "      <td>1.0</td>\n",
       "    </tr>\n",
       "    <tr>\n",
       "      <th>2</th>\n",
       "      <td>1_0-15_audio_to_img.jpg</td>\n",
       "      <td>Equal_Protection_Clause</td>\n",
       "      <td>1.0</td>\n",
       "    </tr>\n",
       "    <tr>\n",
       "      <th>3</th>\n",
       "      <td>1_120-135_audio_to_img.jpg</td>\n",
       "      <td>Equal_Protection_Clause</td>\n",
       "      <td>1.0</td>\n",
       "    </tr>\n",
       "    <tr>\n",
       "      <th>4</th>\n",
       "      <td>1_60-75_audio_to_img.jpg</td>\n",
       "      <td>Equal_Protection_Clause</td>\n",
       "      <td>1.0</td>\n",
       "    </tr>\n",
       "    <tr>\n",
       "      <th>...</th>\n",
       "      <td>...</td>\n",
       "      <td>...</td>\n",
       "      <td>...</td>\n",
       "    </tr>\n",
       "    <tr>\n",
       "      <th>23227</th>\n",
       "      <td>0_120-135_audio_to_img.jpg</td>\n",
       "      <td>Richard_Branson</td>\n",
       "      <td>1.0</td>\n",
       "    </tr>\n",
       "    <tr>\n",
       "      <th>23228</th>\n",
       "      <td>0_15-30_audio_to_img.jpg</td>\n",
       "      <td>Richard_Branson</td>\n",
       "      <td>1.0</td>\n",
       "    </tr>\n",
       "    <tr>\n",
       "      <th>23229</th>\n",
       "      <td>0_285-300_audio_to_img.jpg</td>\n",
       "      <td>Richard_Branson</td>\n",
       "      <td>1.0</td>\n",
       "    </tr>\n",
       "    <tr>\n",
       "      <th>23230</th>\n",
       "      <td>0_75-90_audio_to_img.jpg</td>\n",
       "      <td>Richard_Branson</td>\n",
       "      <td>1.0</td>\n",
       "    </tr>\n",
       "    <tr>\n",
       "      <th>23231</th>\n",
       "      <td>0_105-120_audio_to_img.jpg</td>\n",
       "      <td>Richard_Branson</td>\n",
       "      <td>1.0</td>\n",
       "    </tr>\n",
       "  </tbody>\n",
       "</table>\n",
       "<p>23232 rows × 3 columns</p>\n",
       "</div>"
      ],
      "text/plain": [
       "                            Files                    Names  Language\n",
       "0         0_0-15_audio_to_img.jpg  Longest_word_in_English       1.0\n",
       "1      1_105-120_audio_to_img.jpg  Equal_Protection_Clause       1.0\n",
       "2         1_0-15_audio_to_img.jpg  Equal_Protection_Clause       1.0\n",
       "3      1_120-135_audio_to_img.jpg  Equal_Protection_Clause       1.0\n",
       "4        1_60-75_audio_to_img.jpg  Equal_Protection_Clause       1.0\n",
       "...                           ...                      ...       ...\n",
       "23227  0_120-135_audio_to_img.jpg          Richard_Branson       1.0\n",
       "23228    0_15-30_audio_to_img.jpg          Richard_Branson       1.0\n",
       "23229  0_285-300_audio_to_img.jpg          Richard_Branson       1.0\n",
       "23230    0_75-90_audio_to_img.jpg          Richard_Branson       1.0\n",
       "23231  0_105-120_audio_to_img.jpg          Richard_Branson       1.0\n",
       "\n",
       "[23232 rows x 3 columns]"
      ]
     },
     "execution_count": 20,
     "metadata": {},
     "output_type": "execute_result"
    }
   ],
   "source": [
    "df_english = pd.DataFrame()\n",
    "df_english['Files'] = file_list\n",
    "df_english['Names'] = names_list\n",
    "df_english['Language'] = language\n",
    "\n",
    "df_english"
   ]
  },
  {
   "cell_type": "markdown",
   "metadata": {},
   "source": [
    "### German:\n",
    "\n",
    "Rinse and Repeat:\n",
    "\n",
    "Only difference here is we use the German file path ```files``` and we use zeros instead of ones."
   ]
  },
  {
   "cell_type": "code",
   "execution_count": 21,
   "metadata": {},
   "outputs": [
    {
     "data": {
      "text/plain": [
       "(20207,)"
      ]
     },
     "execution_count": 21,
     "metadata": {},
     "output_type": "execute_result"
    }
   ],
   "source": [
    "file_list = []\n",
    "names_list = []\n",
    "lens = 0\n",
    "for i in german_folders:\n",
    "    files = os.listdir(f'./data/audio_images/German/german/{i}')\n",
    "    names = [i] * len(files)\n",
    "    file_list += files\n",
    "    names_list += names\n",
    "    lens += (len(files))\n",
    "np.asarray(file_list).shape"
   ]
  },
  {
   "cell_type": "code",
   "execution_count": 22,
   "metadata": {},
   "outputs": [],
   "source": [
    "language = np.zeros(lens)"
   ]
  },
  {
   "cell_type": "code",
   "execution_count": 23,
   "metadata": {},
   "outputs": [
    {
     "data": {
      "text/html": [
       "<div>\n",
       "<style scoped>\n",
       "    .dataframe tbody tr th:only-of-type {\n",
       "        vertical-align: middle;\n",
       "    }\n",
       "\n",
       "    .dataframe tbody tr th {\n",
       "        vertical-align: top;\n",
       "    }\n",
       "\n",
       "    .dataframe thead th {\n",
       "        text-align: right;\n",
       "    }\n",
       "</style>\n",
       "<table border=\"1\" class=\"dataframe\">\n",
       "  <thead>\n",
       "    <tr style=\"text-align: right;\">\n",
       "      <th></th>\n",
       "      <th>Files</th>\n",
       "      <th>Names</th>\n",
       "      <th>Language</th>\n",
       "    </tr>\n",
       "  </thead>\n",
       "  <tbody>\n",
       "    <tr>\n",
       "      <th>0</th>\n",
       "      <td>0_225-240_audio_to_img.jpg</td>\n",
       "      <td>Rhodopsin</td>\n",
       "      <td>0.0</td>\n",
       "    </tr>\n",
       "    <tr>\n",
       "      <th>1</th>\n",
       "      <td>0_90-105_audio_to_img.jpg</td>\n",
       "      <td>Rhodopsin</td>\n",
       "      <td>0.0</td>\n",
       "    </tr>\n",
       "    <tr>\n",
       "      <th>2</th>\n",
       "      <td>0_135-150_audio_to_img.jpg</td>\n",
       "      <td>Rhodopsin</td>\n",
       "      <td>0.0</td>\n",
       "    </tr>\n",
       "    <tr>\n",
       "      <th>3</th>\n",
       "      <td>0_180-195_audio_to_img.jpg</td>\n",
       "      <td>Rhodopsin</td>\n",
       "      <td>0.0</td>\n",
       "    </tr>\n",
       "    <tr>\n",
       "      <th>4</th>\n",
       "      <td>0_240-255_audio_to_img.jpg</td>\n",
       "      <td>Rhodopsin</td>\n",
       "      <td>0.0</td>\n",
       "    </tr>\n",
       "    <tr>\n",
       "      <th>...</th>\n",
       "      <td>...</td>\n",
       "      <td>...</td>\n",
       "      <td>...</td>\n",
       "    </tr>\n",
       "    <tr>\n",
       "      <th>20202</th>\n",
       "      <td>0_120-135_audio_to_img.jpg</td>\n",
       "      <td>Deutscher_Bundestag</td>\n",
       "      <td>0.0</td>\n",
       "    </tr>\n",
       "    <tr>\n",
       "      <th>20203</th>\n",
       "      <td>0_15-30_audio_to_img.jpg</td>\n",
       "      <td>Deutscher_Bundestag</td>\n",
       "      <td>0.0</td>\n",
       "    </tr>\n",
       "    <tr>\n",
       "      <th>20204</th>\n",
       "      <td>0_285-300_audio_to_img.jpg</td>\n",
       "      <td>Deutscher_Bundestag</td>\n",
       "      <td>0.0</td>\n",
       "    </tr>\n",
       "    <tr>\n",
       "      <th>20205</th>\n",
       "      <td>0_75-90_audio_to_img.jpg</td>\n",
       "      <td>Deutscher_Bundestag</td>\n",
       "      <td>0.0</td>\n",
       "    </tr>\n",
       "    <tr>\n",
       "      <th>20206</th>\n",
       "      <td>0_105-120_audio_to_img.jpg</td>\n",
       "      <td>Deutscher_Bundestag</td>\n",
       "      <td>0.0</td>\n",
       "    </tr>\n",
       "  </tbody>\n",
       "</table>\n",
       "<p>20207 rows × 3 columns</p>\n",
       "</div>"
      ],
      "text/plain": [
       "                            Files                Names  Language\n",
       "0      0_225-240_audio_to_img.jpg            Rhodopsin       0.0\n",
       "1       0_90-105_audio_to_img.jpg            Rhodopsin       0.0\n",
       "2      0_135-150_audio_to_img.jpg            Rhodopsin       0.0\n",
       "3      0_180-195_audio_to_img.jpg            Rhodopsin       0.0\n",
       "4      0_240-255_audio_to_img.jpg            Rhodopsin       0.0\n",
       "...                           ...                  ...       ...\n",
       "20202  0_120-135_audio_to_img.jpg  Deutscher_Bundestag       0.0\n",
       "20203    0_15-30_audio_to_img.jpg  Deutscher_Bundestag       0.0\n",
       "20204  0_285-300_audio_to_img.jpg  Deutscher_Bundestag       0.0\n",
       "20205    0_75-90_audio_to_img.jpg  Deutscher_Bundestag       0.0\n",
       "20206  0_105-120_audio_to_img.jpg  Deutscher_Bundestag       0.0\n",
       "\n",
       "[20207 rows x 3 columns]"
      ]
     },
     "execution_count": 23,
     "metadata": {},
     "output_type": "execute_result"
    }
   ],
   "source": [
    "df_german = pd.DataFrame()\n",
    "df_german['Files'] = file_list\n",
    "df_german['Names'] = names_list\n",
    "df_german['Language'] = language\n",
    "\n",
    "df_german"
   ]
  },
  {
   "cell_type": "markdown",
   "metadata": {},
   "source": [
    "### Totals:\n",
    "\n",
    "In total we have 23232 English Files and 20207 German Files to work with"
   ]
  },
  {
   "cell_type": "markdown",
   "metadata": {},
   "source": [
    "### Bring them together:\n",
    "\n",
    "We're going to concatenate the DataFrames and reset the index"
   ]
  },
  {
   "cell_type": "code",
   "execution_count": 24,
   "metadata": {},
   "outputs": [],
   "source": [
    "df = pd.concat([df_english, df_german])"
   ]
  },
  {
   "cell_type": "code",
   "execution_count": 25,
   "metadata": {},
   "outputs": [
    {
     "data": {
      "text/html": [
       "<div>\n",
       "<style scoped>\n",
       "    .dataframe tbody tr th:only-of-type {\n",
       "        vertical-align: middle;\n",
       "    }\n",
       "\n",
       "    .dataframe tbody tr th {\n",
       "        vertical-align: top;\n",
       "    }\n",
       "\n",
       "    .dataframe thead th {\n",
       "        text-align: right;\n",
       "    }\n",
       "</style>\n",
       "<table border=\"1\" class=\"dataframe\">\n",
       "  <thead>\n",
       "    <tr style=\"text-align: right;\">\n",
       "      <th></th>\n",
       "      <th>index</th>\n",
       "      <th>Files</th>\n",
       "      <th>Names</th>\n",
       "      <th>Language</th>\n",
       "    </tr>\n",
       "  </thead>\n",
       "  <tbody>\n",
       "    <tr>\n",
       "      <th>0</th>\n",
       "      <td>0</td>\n",
       "      <td>0_0-15_audio_to_img.jpg</td>\n",
       "      <td>Longest_word_in_English</td>\n",
       "      <td>1.0</td>\n",
       "    </tr>\n",
       "    <tr>\n",
       "      <th>1</th>\n",
       "      <td>1</td>\n",
       "      <td>1_105-120_audio_to_img.jpg</td>\n",
       "      <td>Equal_Protection_Clause</td>\n",
       "      <td>1.0</td>\n",
       "    </tr>\n",
       "    <tr>\n",
       "      <th>2</th>\n",
       "      <td>2</td>\n",
       "      <td>1_0-15_audio_to_img.jpg</td>\n",
       "      <td>Equal_Protection_Clause</td>\n",
       "      <td>1.0</td>\n",
       "    </tr>\n",
       "    <tr>\n",
       "      <th>3</th>\n",
       "      <td>3</td>\n",
       "      <td>1_120-135_audio_to_img.jpg</td>\n",
       "      <td>Equal_Protection_Clause</td>\n",
       "      <td>1.0</td>\n",
       "    </tr>\n",
       "    <tr>\n",
       "      <th>4</th>\n",
       "      <td>4</td>\n",
       "      <td>1_60-75_audio_to_img.jpg</td>\n",
       "      <td>Equal_Protection_Clause</td>\n",
       "      <td>1.0</td>\n",
       "    </tr>\n",
       "    <tr>\n",
       "      <th>...</th>\n",
       "      <td>...</td>\n",
       "      <td>...</td>\n",
       "      <td>...</td>\n",
       "      <td>...</td>\n",
       "    </tr>\n",
       "    <tr>\n",
       "      <th>43434</th>\n",
       "      <td>20202</td>\n",
       "      <td>0_120-135_audio_to_img.jpg</td>\n",
       "      <td>Deutscher_Bundestag</td>\n",
       "      <td>0.0</td>\n",
       "    </tr>\n",
       "    <tr>\n",
       "      <th>43435</th>\n",
       "      <td>20203</td>\n",
       "      <td>0_15-30_audio_to_img.jpg</td>\n",
       "      <td>Deutscher_Bundestag</td>\n",
       "      <td>0.0</td>\n",
       "    </tr>\n",
       "    <tr>\n",
       "      <th>43436</th>\n",
       "      <td>20204</td>\n",
       "      <td>0_285-300_audio_to_img.jpg</td>\n",
       "      <td>Deutscher_Bundestag</td>\n",
       "      <td>0.0</td>\n",
       "    </tr>\n",
       "    <tr>\n",
       "      <th>43437</th>\n",
       "      <td>20205</td>\n",
       "      <td>0_75-90_audio_to_img.jpg</td>\n",
       "      <td>Deutscher_Bundestag</td>\n",
       "      <td>0.0</td>\n",
       "    </tr>\n",
       "    <tr>\n",
       "      <th>43438</th>\n",
       "      <td>20206</td>\n",
       "      <td>0_105-120_audio_to_img.jpg</td>\n",
       "      <td>Deutscher_Bundestag</td>\n",
       "      <td>0.0</td>\n",
       "    </tr>\n",
       "  </tbody>\n",
       "</table>\n",
       "<p>43439 rows × 4 columns</p>\n",
       "</div>"
      ],
      "text/plain": [
       "       index                       Files                    Names  Language\n",
       "0          0     0_0-15_audio_to_img.jpg  Longest_word_in_English       1.0\n",
       "1          1  1_105-120_audio_to_img.jpg  Equal_Protection_Clause       1.0\n",
       "2          2     1_0-15_audio_to_img.jpg  Equal_Protection_Clause       1.0\n",
       "3          3  1_120-135_audio_to_img.jpg  Equal_Protection_Clause       1.0\n",
       "4          4    1_60-75_audio_to_img.jpg  Equal_Protection_Clause       1.0\n",
       "...      ...                         ...                      ...       ...\n",
       "43434  20202  0_120-135_audio_to_img.jpg      Deutscher_Bundestag       0.0\n",
       "43435  20203    0_15-30_audio_to_img.jpg      Deutscher_Bundestag       0.0\n",
       "43436  20204  0_285-300_audio_to_img.jpg      Deutscher_Bundestag       0.0\n",
       "43437  20205    0_75-90_audio_to_img.jpg      Deutscher_Bundestag       0.0\n",
       "43438  20206  0_105-120_audio_to_img.jpg      Deutscher_Bundestag       0.0\n",
       "\n",
       "[43439 rows x 4 columns]"
      ]
     },
     "execution_count": 25,
     "metadata": {},
     "output_type": "execute_result"
    }
   ],
   "source": [
    "df.reset_index(inplace=True)\n",
    "df"
   ]
  },
  {
   "cell_type": "markdown",
   "metadata": {},
   "source": [
    "### Save to CSV:\n",
    "\n",
    "The last thing we need to do is drop the index column and make a new column with the full path for the model to read.\n",
    "\n",
    "Our total dataset is 43439 rows so we're going to save this to CSV so we can reference these values when building the model."
   ]
  },
  {
   "cell_type": "code",
   "execution_count": 31,
   "metadata": {},
   "outputs": [
    {
     "ename": "KeyError",
     "evalue": "\"['index'] not found in axis\"",
     "output_type": "error",
     "traceback": [
      "\u001b[0;31m---------------------------------------------------------------------------\u001b[0m",
      "\u001b[0;31mKeyError\u001b[0m                                  Traceback (most recent call last)",
      "\u001b[0;32m<ipython-input-31-9a0d69916f5c>\u001b[0m in \u001b[0;36m<module>\u001b[0;34m\u001b[0m\n\u001b[0;32m----> 1\u001b[0;31m \u001b[0mdf\u001b[0m\u001b[0;34m.\u001b[0m\u001b[0mdrop\u001b[0m\u001b[0;34m(\u001b[0m\u001b[0;34m'index'\u001b[0m\u001b[0;34m,\u001b[0m \u001b[0maxis\u001b[0m\u001b[0;34m=\u001b[0m\u001b[0;36m1\u001b[0m\u001b[0;34m,\u001b[0m \u001b[0minplace\u001b[0m\u001b[0;34m=\u001b[0m\u001b[0;32mTrue\u001b[0m\u001b[0;34m)\u001b[0m\u001b[0;34m\u001b[0m\u001b[0;34m\u001b[0m\u001b[0m\n\u001b[0m\u001b[1;32m      2\u001b[0m \u001b[0mdf\u001b[0m\u001b[0;34m\u001b[0m\u001b[0;34m\u001b[0m\u001b[0m\n",
      "\u001b[0;32m~/anaconda3/lib/python3.7/site-packages/pandas/core/frame.py\u001b[0m in \u001b[0;36mdrop\u001b[0;34m(self, labels, axis, index, columns, level, inplace, errors)\u001b[0m\n\u001b[1;32m   4115\u001b[0m             \u001b[0mlevel\u001b[0m\u001b[0;34m=\u001b[0m\u001b[0mlevel\u001b[0m\u001b[0;34m,\u001b[0m\u001b[0;34m\u001b[0m\u001b[0;34m\u001b[0m\u001b[0m\n\u001b[1;32m   4116\u001b[0m             \u001b[0minplace\u001b[0m\u001b[0;34m=\u001b[0m\u001b[0minplace\u001b[0m\u001b[0;34m,\u001b[0m\u001b[0;34m\u001b[0m\u001b[0;34m\u001b[0m\u001b[0m\n\u001b[0;32m-> 4117\u001b[0;31m             \u001b[0merrors\u001b[0m\u001b[0;34m=\u001b[0m\u001b[0merrors\u001b[0m\u001b[0;34m,\u001b[0m\u001b[0;34m\u001b[0m\u001b[0;34m\u001b[0m\u001b[0m\n\u001b[0m\u001b[1;32m   4118\u001b[0m         )\n\u001b[1;32m   4119\u001b[0m \u001b[0;34m\u001b[0m\u001b[0m\n",
      "\u001b[0;32m~/anaconda3/lib/python3.7/site-packages/pandas/core/generic.py\u001b[0m in \u001b[0;36mdrop\u001b[0;34m(self, labels, axis, index, columns, level, inplace, errors)\u001b[0m\n\u001b[1;32m   3912\u001b[0m         \u001b[0;32mfor\u001b[0m \u001b[0maxis\u001b[0m\u001b[0;34m,\u001b[0m \u001b[0mlabels\u001b[0m \u001b[0;32min\u001b[0m \u001b[0maxes\u001b[0m\u001b[0;34m.\u001b[0m\u001b[0mitems\u001b[0m\u001b[0;34m(\u001b[0m\u001b[0;34m)\u001b[0m\u001b[0;34m:\u001b[0m\u001b[0;34m\u001b[0m\u001b[0;34m\u001b[0m\u001b[0m\n\u001b[1;32m   3913\u001b[0m             \u001b[0;32mif\u001b[0m \u001b[0mlabels\u001b[0m \u001b[0;32mis\u001b[0m \u001b[0;32mnot\u001b[0m \u001b[0;32mNone\u001b[0m\u001b[0;34m:\u001b[0m\u001b[0;34m\u001b[0m\u001b[0;34m\u001b[0m\u001b[0m\n\u001b[0;32m-> 3914\u001b[0;31m                 \u001b[0mobj\u001b[0m \u001b[0;34m=\u001b[0m \u001b[0mobj\u001b[0m\u001b[0;34m.\u001b[0m\u001b[0m_drop_axis\u001b[0m\u001b[0;34m(\u001b[0m\u001b[0mlabels\u001b[0m\u001b[0;34m,\u001b[0m \u001b[0maxis\u001b[0m\u001b[0;34m,\u001b[0m \u001b[0mlevel\u001b[0m\u001b[0;34m=\u001b[0m\u001b[0mlevel\u001b[0m\u001b[0;34m,\u001b[0m \u001b[0merrors\u001b[0m\u001b[0;34m=\u001b[0m\u001b[0merrors\u001b[0m\u001b[0;34m)\u001b[0m\u001b[0;34m\u001b[0m\u001b[0;34m\u001b[0m\u001b[0m\n\u001b[0m\u001b[1;32m   3915\u001b[0m \u001b[0;34m\u001b[0m\u001b[0m\n\u001b[1;32m   3916\u001b[0m         \u001b[0;32mif\u001b[0m \u001b[0minplace\u001b[0m\u001b[0;34m:\u001b[0m\u001b[0;34m\u001b[0m\u001b[0;34m\u001b[0m\u001b[0m\n",
      "\u001b[0;32m~/anaconda3/lib/python3.7/site-packages/pandas/core/generic.py\u001b[0m in \u001b[0;36m_drop_axis\u001b[0;34m(self, labels, axis, level, errors)\u001b[0m\n\u001b[1;32m   3944\u001b[0m                 \u001b[0mnew_axis\u001b[0m \u001b[0;34m=\u001b[0m \u001b[0maxis\u001b[0m\u001b[0;34m.\u001b[0m\u001b[0mdrop\u001b[0m\u001b[0;34m(\u001b[0m\u001b[0mlabels\u001b[0m\u001b[0;34m,\u001b[0m \u001b[0mlevel\u001b[0m\u001b[0;34m=\u001b[0m\u001b[0mlevel\u001b[0m\u001b[0;34m,\u001b[0m \u001b[0merrors\u001b[0m\u001b[0;34m=\u001b[0m\u001b[0merrors\u001b[0m\u001b[0;34m)\u001b[0m\u001b[0;34m\u001b[0m\u001b[0;34m\u001b[0m\u001b[0m\n\u001b[1;32m   3945\u001b[0m             \u001b[0;32melse\u001b[0m\u001b[0;34m:\u001b[0m\u001b[0;34m\u001b[0m\u001b[0;34m\u001b[0m\u001b[0m\n\u001b[0;32m-> 3946\u001b[0;31m                 \u001b[0mnew_axis\u001b[0m \u001b[0;34m=\u001b[0m \u001b[0maxis\u001b[0m\u001b[0;34m.\u001b[0m\u001b[0mdrop\u001b[0m\u001b[0;34m(\u001b[0m\u001b[0mlabels\u001b[0m\u001b[0;34m,\u001b[0m \u001b[0merrors\u001b[0m\u001b[0;34m=\u001b[0m\u001b[0merrors\u001b[0m\u001b[0;34m)\u001b[0m\u001b[0;34m\u001b[0m\u001b[0;34m\u001b[0m\u001b[0m\n\u001b[0m\u001b[1;32m   3947\u001b[0m             \u001b[0mresult\u001b[0m \u001b[0;34m=\u001b[0m \u001b[0mself\u001b[0m\u001b[0;34m.\u001b[0m\u001b[0mreindex\u001b[0m\u001b[0;34m(\u001b[0m\u001b[0;34m**\u001b[0m\u001b[0;34m{\u001b[0m\u001b[0maxis_name\u001b[0m\u001b[0;34m:\u001b[0m \u001b[0mnew_axis\u001b[0m\u001b[0;34m}\u001b[0m\u001b[0;34m)\u001b[0m\u001b[0;34m\u001b[0m\u001b[0;34m\u001b[0m\u001b[0m\n\u001b[1;32m   3948\u001b[0m \u001b[0;34m\u001b[0m\u001b[0m\n",
      "\u001b[0;32m~/anaconda3/lib/python3.7/site-packages/pandas/core/indexes/base.py\u001b[0m in \u001b[0;36mdrop\u001b[0;34m(self, labels, errors)\u001b[0m\n\u001b[1;32m   5338\u001b[0m         \u001b[0;32mif\u001b[0m \u001b[0mmask\u001b[0m\u001b[0;34m.\u001b[0m\u001b[0many\u001b[0m\u001b[0;34m(\u001b[0m\u001b[0;34m)\u001b[0m\u001b[0;34m:\u001b[0m\u001b[0;34m\u001b[0m\u001b[0;34m\u001b[0m\u001b[0m\n\u001b[1;32m   5339\u001b[0m             \u001b[0;32mif\u001b[0m \u001b[0merrors\u001b[0m \u001b[0;34m!=\u001b[0m \u001b[0;34m\"ignore\"\u001b[0m\u001b[0;34m:\u001b[0m\u001b[0;34m\u001b[0m\u001b[0;34m\u001b[0m\u001b[0m\n\u001b[0;32m-> 5340\u001b[0;31m                 \u001b[0;32mraise\u001b[0m \u001b[0mKeyError\u001b[0m\u001b[0;34m(\u001b[0m\u001b[0;34m\"{} not found in axis\"\u001b[0m\u001b[0;34m.\u001b[0m\u001b[0mformat\u001b[0m\u001b[0;34m(\u001b[0m\u001b[0mlabels\u001b[0m\u001b[0;34m[\u001b[0m\u001b[0mmask\u001b[0m\u001b[0;34m]\u001b[0m\u001b[0;34m)\u001b[0m\u001b[0;34m)\u001b[0m\u001b[0;34m\u001b[0m\u001b[0;34m\u001b[0m\u001b[0m\n\u001b[0m\u001b[1;32m   5341\u001b[0m             \u001b[0mindexer\u001b[0m \u001b[0;34m=\u001b[0m \u001b[0mindexer\u001b[0m\u001b[0;34m[\u001b[0m\u001b[0;34m~\u001b[0m\u001b[0mmask\u001b[0m\u001b[0;34m]\u001b[0m\u001b[0;34m\u001b[0m\u001b[0;34m\u001b[0m\u001b[0m\n\u001b[1;32m   5342\u001b[0m         \u001b[0;32mreturn\u001b[0m \u001b[0mself\u001b[0m\u001b[0;34m.\u001b[0m\u001b[0mdelete\u001b[0m\u001b[0;34m(\u001b[0m\u001b[0mindexer\u001b[0m\u001b[0;34m)\u001b[0m\u001b[0;34m\u001b[0m\u001b[0;34m\u001b[0m\u001b[0m\n",
      "\u001b[0;31mKeyError\u001b[0m: \"['index'] not found in axis\""
     ]
    }
   ],
   "source": [
    "df.drop('index', axis=1, inplace=True)\n",
    "df"
   ]
  },
  {
   "cell_type": "code",
   "execution_count": 32,
   "metadata": {},
   "outputs": [
    {
     "name": "stderr",
     "output_type": "stream",
     "text": [
      "/home/houston/anaconda3/lib/python3.7/site-packages/ipykernel_launcher.py:5: SettingWithCopyWarning: \n",
      "A value is trying to be set on a copy of a slice from a DataFrame\n",
      "\n",
      "See the caveats in the documentation: http://pandas.pydata.org/pandas-docs/stable/user_guide/indexing.html#returning-a-view-versus-a-copy\n",
      "  \"\"\"\n",
      "/home/houston/anaconda3/lib/python3.7/site-packages/ipykernel_launcher.py:8: SettingWithCopyWarning: \n",
      "A value is trying to be set on a copy of a slice from a DataFrame\n",
      "\n",
      "See the caveats in the documentation: http://pandas.pydata.org/pandas-docs/stable/user_guide/indexing.html#returning-a-view-versus-a-copy\n",
      "  \n"
     ]
    }
   ],
   "source": [
    "df['FilePath'] = ''\n",
    "for i, j in df.iterrows():\n",
    "    if df['Language'][i] == 1:\n",
    "        path = './data/audio_images/English/english'\n",
    "        df['FilePath'][i] = f'{path}/{df[\"Names\"][i]}/{df[\"Files\"][i]}'\n",
    "    else:\n",
    "        path = './data/audio_images/German/german'\n",
    "        df['FilePath'][i] = f'{path}/{df[\"Names\"][i]}/{df[\"Files\"][i]}'\n",
    "    "
   ]
  },
  {
   "cell_type": "code",
   "execution_count": 33,
   "metadata": {},
   "outputs": [
    {
     "data": {
      "text/html": [
       "<div>\n",
       "<style scoped>\n",
       "    .dataframe tbody tr th:only-of-type {\n",
       "        vertical-align: middle;\n",
       "    }\n",
       "\n",
       "    .dataframe tbody tr th {\n",
       "        vertical-align: top;\n",
       "    }\n",
       "\n",
       "    .dataframe thead th {\n",
       "        text-align: right;\n",
       "    }\n",
       "</style>\n",
       "<table border=\"1\" class=\"dataframe\">\n",
       "  <thead>\n",
       "    <tr style=\"text-align: right;\">\n",
       "      <th></th>\n",
       "      <th>Files</th>\n",
       "      <th>Names</th>\n",
       "      <th>Language</th>\n",
       "      <th>FilePath</th>\n",
       "    </tr>\n",
       "  </thead>\n",
       "  <tbody>\n",
       "    <tr>\n",
       "      <th>0</th>\n",
       "      <td>0_0-15_audio_to_img.jpg</td>\n",
       "      <td>Longest_word_in_English</td>\n",
       "      <td>1.0</td>\n",
       "      <td>./data/audio_images/English/english/Longest_wo...</td>\n",
       "    </tr>\n",
       "    <tr>\n",
       "      <th>1</th>\n",
       "      <td>1_105-120_audio_to_img.jpg</td>\n",
       "      <td>Equal_Protection_Clause</td>\n",
       "      <td>1.0</td>\n",
       "      <td>./data/audio_images/English/english/Equal_Prot...</td>\n",
       "    </tr>\n",
       "    <tr>\n",
       "      <th>2</th>\n",
       "      <td>1_0-15_audio_to_img.jpg</td>\n",
       "      <td>Equal_Protection_Clause</td>\n",
       "      <td>1.0</td>\n",
       "      <td>./data/audio_images/English/english/Equal_Prot...</td>\n",
       "    </tr>\n",
       "    <tr>\n",
       "      <th>3</th>\n",
       "      <td>1_120-135_audio_to_img.jpg</td>\n",
       "      <td>Equal_Protection_Clause</td>\n",
       "      <td>1.0</td>\n",
       "      <td>./data/audio_images/English/english/Equal_Prot...</td>\n",
       "    </tr>\n",
       "    <tr>\n",
       "      <th>4</th>\n",
       "      <td>1_60-75_audio_to_img.jpg</td>\n",
       "      <td>Equal_Protection_Clause</td>\n",
       "      <td>1.0</td>\n",
       "      <td>./data/audio_images/English/english/Equal_Prot...</td>\n",
       "    </tr>\n",
       "    <tr>\n",
       "      <th>...</th>\n",
       "      <td>...</td>\n",
       "      <td>...</td>\n",
       "      <td>...</td>\n",
       "      <td>...</td>\n",
       "    </tr>\n",
       "    <tr>\n",
       "      <th>43434</th>\n",
       "      <td>0_120-135_audio_to_img.jpg</td>\n",
       "      <td>Deutscher_Bundestag</td>\n",
       "      <td>0.0</td>\n",
       "      <td>./data/audio_images/German/german/Deutscher_Bu...</td>\n",
       "    </tr>\n",
       "    <tr>\n",
       "      <th>43435</th>\n",
       "      <td>0_15-30_audio_to_img.jpg</td>\n",
       "      <td>Deutscher_Bundestag</td>\n",
       "      <td>0.0</td>\n",
       "      <td>./data/audio_images/German/german/Deutscher_Bu...</td>\n",
       "    </tr>\n",
       "    <tr>\n",
       "      <th>43436</th>\n",
       "      <td>0_285-300_audio_to_img.jpg</td>\n",
       "      <td>Deutscher_Bundestag</td>\n",
       "      <td>0.0</td>\n",
       "      <td>./data/audio_images/German/german/Deutscher_Bu...</td>\n",
       "    </tr>\n",
       "    <tr>\n",
       "      <th>43437</th>\n",
       "      <td>0_75-90_audio_to_img.jpg</td>\n",
       "      <td>Deutscher_Bundestag</td>\n",
       "      <td>0.0</td>\n",
       "      <td>./data/audio_images/German/german/Deutscher_Bu...</td>\n",
       "    </tr>\n",
       "    <tr>\n",
       "      <th>43438</th>\n",
       "      <td>0_105-120_audio_to_img.jpg</td>\n",
       "      <td>Deutscher_Bundestag</td>\n",
       "      <td>0.0</td>\n",
       "      <td>./data/audio_images/German/german/Deutscher_Bu...</td>\n",
       "    </tr>\n",
       "  </tbody>\n",
       "</table>\n",
       "<p>43439 rows × 4 columns</p>\n",
       "</div>"
      ],
      "text/plain": [
       "                            Files                    Names  Language  \\\n",
       "0         0_0-15_audio_to_img.jpg  Longest_word_in_English       1.0   \n",
       "1      1_105-120_audio_to_img.jpg  Equal_Protection_Clause       1.0   \n",
       "2         1_0-15_audio_to_img.jpg  Equal_Protection_Clause       1.0   \n",
       "3      1_120-135_audio_to_img.jpg  Equal_Protection_Clause       1.0   \n",
       "4        1_60-75_audio_to_img.jpg  Equal_Protection_Clause       1.0   \n",
       "...                           ...                      ...       ...   \n",
       "43434  0_120-135_audio_to_img.jpg      Deutscher_Bundestag       0.0   \n",
       "43435    0_15-30_audio_to_img.jpg      Deutscher_Bundestag       0.0   \n",
       "43436  0_285-300_audio_to_img.jpg      Deutscher_Bundestag       0.0   \n",
       "43437    0_75-90_audio_to_img.jpg      Deutscher_Bundestag       0.0   \n",
       "43438  0_105-120_audio_to_img.jpg      Deutscher_Bundestag       0.0   \n",
       "\n",
       "                                                FilePath  \n",
       "0      ./data/audio_images/English/english/Longest_wo...  \n",
       "1      ./data/audio_images/English/english/Equal_Prot...  \n",
       "2      ./data/audio_images/English/english/Equal_Prot...  \n",
       "3      ./data/audio_images/English/english/Equal_Prot...  \n",
       "4      ./data/audio_images/English/english/Equal_Prot...  \n",
       "...                                                  ...  \n",
       "43434  ./data/audio_images/German/german/Deutscher_Bu...  \n",
       "43435  ./data/audio_images/German/german/Deutscher_Bu...  \n",
       "43436  ./data/audio_images/German/german/Deutscher_Bu...  \n",
       "43437  ./data/audio_images/German/german/Deutscher_Bu...  \n",
       "43438  ./data/audio_images/German/german/Deutscher_Bu...  \n",
       "\n",
       "[43439 rows x 4 columns]"
      ]
     },
     "execution_count": 33,
     "metadata": {},
     "output_type": "execute_result"
    }
   ],
   "source": [
    "df"
   ]
  },
  {
   "cell_type": "code",
   "execution_count": 34,
   "metadata": {},
   "outputs": [],
   "source": [
    "df.to_csv('./data/feed_dict.csv', index=False)"
   ]
  },
  {
   "cell_type": "code",
   "execution_count": null,
   "metadata": {},
   "outputs": [],
   "source": []
  }
 ],
 "metadata": {
  "kernelspec": {
   "display_name": "Python 3",
   "language": "python",
   "name": "python3"
  },
  "language_info": {
   "codemirror_mode": {
    "name": "ipython",
    "version": 3
   },
   "file_extension": ".py",
   "mimetype": "text/x-python",
   "name": "python",
   "nbconvert_exporter": "python",
   "pygments_lexer": "ipython3",
   "version": "3.7.6"
  }
 },
 "nbformat": 4,
 "nbformat_minor": 4
}
